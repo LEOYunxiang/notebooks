{
 "cells": [
  {
   "cell_type": "markdown",
   "metadata": {},
   "source": [
    "# Karatsuba Algorithm for Multiplying Two Polynomials\n",
    "## Sriram Sankaranarayanan\n",
    "### CSCI 3104 Algorithms\n"
   ]
  },
  {
   "cell_type": "markdown",
   "metadata": {},
   "source": [
    "## Representing Polynomials\n",
    "\n",
    "We will use an array of floats of the form [a[0], a[1], ..., a[n-1]] to represent the polynomial $a_0 + a_1 x + a_2 x^2 + \\cdots + a_{n-1}x^{n-1}$."
   ]
  },
  {
   "cell_type": "code",
   "execution_count": 11,
   "metadata": {
    "collapsed": false
   },
   "outputs": [],
   "source": [
    "from sympy.interactive import printing\n",
    "printing.init_printing(use_latex=True)\n",
    "\n",
    "def prettyPrintPolynomial(a):\n",
    "    n = len(a)\n",
    "    rstr=''\n",
    "    print('$',end='')\n",
    "    for (i,e) in enumerate(a):\n",
    "        if ( e > 0):\n",
    "            rstr += '+'\n",
    "            print('+',end='')\n",
    "        if (e != 0):\n",
    "            rstr += str(e)\n",
    "            print(e,end='')\n",
    "            if (i ==1):\n",
    "                rstr += 'x'\n",
    "                print('*x',end='')\n",
    "            if (i > 1):\n",
    "                rstr += 'x^%d'%(i)\n",
    "                print('*x^%d'%(i),end='')\n",
    "    print('$')\n",
    "    return rstr"
   ]
  },
  {
   "cell_type": "code",
   "execution_count": 12,
   "metadata": {
    "collapsed": false
   },
   "outputs": [
    {
     "name": "stdout",
     "output_type": "stream",
     "text": [
      "$+1-2*x+3*x^3+4*x^4+7*x^8$\n"
     ]
    },
    {
     "data": {
      "text/latex": [
       "$$+1-2x+3x^3+4x^4+7x^8$$"
      ],
      "text/plain": [
       "<IPython.core.display.Math object>"
      ]
     },
     "metadata": {},
     "output_type": "display_data"
    },
    {
     "name": "stdout",
     "output_type": "stream",
     "text": [
      "$+1+2*x+3*x^2+1*x^8+1*x^9$\n"
     ]
    },
    {
     "data": {
      "text/latex": [
       "$$+1+2x+3x^2+1x^8+1x^9$$"
      ],
      "text/plain": [
       "<IPython.core.display.Math object>"
      ]
     },
     "metadata": {},
     "output_type": "display_data"
    }
   ],
   "source": [
    "from IPython.core.display import display, Math, Latex\n",
    "\n",
    "p1=[1,-2,0,3,4,0,0,0,7]\n",
    "display(Math(prettyPrintPolynomial(p1)))\n",
    "p2=[1,2,3,0,0,0,0,0,1,1]\n",
    "display(Math(prettyPrintPolynomial(p2)))"
   ]
  },
  {
   "cell_type": "markdown",
   "metadata": {},
   "source": [
    "# Basic operations on polynomials"
   ]
  },
  {
   "cell_type": "code",
   "execution_count": 21,
   "metadata": {
    "collapsed": false
   },
   "outputs": [],
   "source": [
    "# addition of two polynomials\n",
    "def scaleAndAdd(a,b,s): # compute c(x) = a(x) + s * b(x) where s is scalar\n",
    "    m = len(a)\n",
    "    n = len(b)\n",
    "    k = min(m,n)\n",
    "    c=[]\n",
    "    for i in range(0,k):\n",
    "        c.append(a[i]+s*b[i])\n",
    "    for j in range(k,m):\n",
    "        c.append(a[j])\n",
    "    for l in range(k,n):\n",
    "        c.append(s*b[l])\n",
    "    return c\n",
    "\n",
    "def scaleAndShift(p,s,k): # compute s*x^k *p(x)\n",
    "    q=[]\n",
    "    n = len(p)\n",
    "    for j in range(0,k):\n",
    "        q.append(0)\n",
    "    for i in range(0,n):\n",
    "        q.append(p[i]*s)\n",
    "    #q = s * p\n",
    "    assert(len(q)== n+k)\n",
    "    return q\n",
    "\n",
    "def shift(p,k):\n",
    "    return scaleAndShift(p,1.0,k)\n",
    "\n",
    "def scale(p,s):\n",
    "    return scaleAndShift(p,s,0)\n",
    "\n",
    "def add(a,b):\n",
    "    return scaleAndAdd(a,b,1.0)\n",
    "\n",
    "def sub(a,b):\n",
    "    return scaleAndAdd(a,b,-1.0)"
   ]
  },
  {
   "cell_type": "code",
   "execution_count": 4,
   "metadata": {
    "collapsed": false
   },
   "outputs": [
    {
     "name": "stdout",
     "output_type": "stream",
     "text": [
      "$+2.0+3.0*x^2+3.0*x^3+4.0*x^4+8.0*x^8+1.0*x^9$\n",
      "$-4.0*x-3.0*x^2+3.0*x^3+4.0*x^4+6.0*x^8-1.0*x^9$\n",
      "$-8.0*x^6-6.0*x^7+6.0*x^8+8.0*x^9+12.0*x^13-2.0*x^14$\n"
     ]
    }
   ],
   "source": [
    "p3=add(p1,p2)\n",
    "prettyPrintPolynomial(p3)\n",
    "p4 = sub(p1,p2)\n",
    "prettyPrintPolynomial(p4)\n",
    "p5 = scaleAndShift(p4,2.0,5)\n",
    "prettyPrintPolynomial(p5)"
   ]
  },
  {
   "cell_type": "markdown",
   "metadata": {},
   "source": [
    "## Multiplication (Grade School)"
   ]
  },
  {
   "cell_type": "code",
   "execution_count": 5,
   "metadata": {
    "collapsed": true
   },
   "outputs": [],
   "source": [
    "def gradeSchoolMultiply(p, q):\n",
    "    # the algorithm simply goes over \n",
    "    # each term of one polynomial p and uses it to \n",
    "    # scale q\n",
    "    m = len(p)\n",
    "    n = len(q)\n",
    "    if (m == 0 or n == 0):\n",
    "        return []\n",
    "    res = []\n",
    "    for (i,c) in enumerate(p):     # this loop runs m times\n",
    "        r1 = scaleAndShift(q,c,i)  # this takes O(n) time\n",
    "        res = add(res,r1)          # this takes O(n+m) time\n",
    "    return res   \n",
    "        "
   ]
  },
  {
   "cell_type": "code",
   "execution_count": 6,
   "metadata": {
    "collapsed": false
   },
   "outputs": [
    {
     "name": "stdout",
     "output_type": "stream",
     "text": [
      "$+1.0-1.0*x^2-3.0*x^3+10.0*x^4+17.0*x^5+12.0*x^6+8.0*x^8+13.0*x^9+19.0*x^10+3.0*x^11+7.0*x^12+4.0*x^13+7.0*x^16+7.0*x^17$\n"
     ]
    }
   ],
   "source": [
    "p6 = gradeSchoolMultiply(p1,p2)\n",
    "prettyPrintPolynomial(p6)"
   ]
  },
  {
   "cell_type": "code",
   "execution_count": 7,
   "metadata": {
    "collapsed": false
   },
   "outputs": [
    {
     "name": "stdout",
     "output_type": "stream",
     "text": [
      "$+1.0*x+2.0*x^2+2.0*x^3+4.0*x^4$\n"
     ]
    }
   ],
   "source": [
    "a=[0,1,2] # x  +2 x^2\n",
    "b=[1,0,2] # 1 + 2x^2\n",
    "c = gradeSchoolMultiply(a,b)\n",
    "prettyPrintPolynomial(c)"
   ]
  },
  {
   "cell_type": "markdown",
   "metadata": {},
   "source": [
    "## Analysis of Grade School Multiplication\n",
    "\n",
    "Multiplying a polynomial $p$ of degree $m$ with a polynomial $q$ of degree $n$ involves $m$ calls to the scaleAndShift routine and $m$ calls to add routine each taking $O(n+m)$ time. The overall algorithm takes time $O((m+n)^2)$. If $n = m$ this is $O(n^2)$. I am using O(.) rather than $\\Theta(.)$ because my analysis is not precise to pinpoint the exact number of operations for each loop iteration. That is not too hard but it is tedious."
   ]
  },
  {
   "cell_type": "markdown",
   "metadata": {},
   "source": [
    "## Karatsuba's Algorithm\n",
    "\n",
    "Let $p(x) = a_0 + a_1 x + \\cdots + a_{n-1} x^{n-1}$ and $q(x) = b_0 + b_1 x + \\cdots + b_{m-1} x^{m-1}$. \n",
    "\n",
    "Let us split $p$ into two roughly equal parts:\n",
    "\n",
    "- $p_1$ of degree $k = \\lfloor \\frac{n}{2} \\rfloor $ and $p_2$. \n",
    "- We can write $p = p_1 + x^{k+1} p_2$.\n",
    "\n",
    "Likewise, let us write $q = q_1 + x^{l+1}q_2$. In general, $k \\not= l$.\n",
    "\n",
    "The product is\n",
    "$$ \\begin{array}{rcl}\n",
    "p * q &=& p_1 * q_1 + x^{k+1} p_1 * q_2 + x^{l+1}* p_2 * q_1 + x^{k+l+2} * p_2 * q_2 \\\\\n",
    "&=& \\underset{r_1}{\\underbrace{p_1 * q_1}} + x^j ( \\underset{r}{\\underbrace{x^{k+1-j} p_1 * q_2 + x^{l+1-j} *p_2*q_1}}) + x^{k+l+2} * \\underset{r_2}{\\underbrace{p_2 * q_2}}\\\\\n",
    "\\end{array}\n",
    "$$\n",
    "\n",
    "Here $j=\\min(k+1,l+1)$\n",
    "\n",
    "To compute this product, we compute\n",
    "$$r_1 = p_1 * q_1\\ \\mbox{and}\\ r_2 = p_2 * q_2 $$\n",
    "\n",
    "Next we compute $$ r_3 = (x^{l+1-j}*p_1 + p_2) * (x^{k+1-j}*q_1 + q_2)$$\n",
    "\n",
    "We can obtain $$ r = r_3 - x^{k+l+2} r_1 - r_2 $$\n",
    "\n",
    "Multiplying a polynomial $p$ by $x^j$ is achieved by shifting the array and padding $j$ initial $0$s. The divide and conquer algorithm makes recursive calls to itself.\n"
   ]
  },
  {
   "cell_type": "code",
   "execution_count": 40,
   "metadata": {
    "collapsed": true
   },
   "outputs": [],
   "source": [
    "def karatsubaMultiply(p,q):\n",
    "    m = len(p)\n",
    "    n = len(q)\n",
    "    if (m==0 or n == 0):\n",
    "        return []\n",
    "    if (m <= 4 or n <= 4):\n",
    "        return gradeSchoolMultiply(p,q)\n",
    "    k= int(m/2)\n",
    "    l= int(n/2)\n",
    "    j= min(k+1,l+1)\n",
    "    \n",
    "    # Split the arrays\n",
    "    \n",
    "    p1 = p[0:k+1]\n",
    "    p2 = p[k+1:m]\n",
    "    q1 = q[0:l+1]\n",
    "    q2 = q[l+1:n]\n",
    "    assert(len(p1)==k+1)\n",
    "    assert(len(q1)==l+1)\n",
    "    \n",
    "    #Recursive multiply\n",
    "    r1 = karatsubaMultiply(p1,q1) # recursive call to compute r1 = p1*q1\n",
    "    \n",
    "    r2 = karatsubaMultiply(p2,q2) # r2 = p2*q2 using recursive call number 2\n",
    "    \n",
    "    s1 = shift(p1,l+1-j)\n",
    "    s = add(s1,p2) # s = p1*x^{l+1-j} + p2\n",
    "    t1 = shift(q1,k+1-j)\n",
    "    t = add(t1,q2) # t = q1*x^{k+1-j}+ q2\n",
    "    r3 = karatsubaMultiply(s,t) # r3 = s  * t recursive call number 3\n",
    "    \n",
    "    # the rest of the calculation\n",
    "    r4 = sub(r3,r2)            #r4 = r3 - p2*q2  \n",
    "    s2 = shift(r1,k+l+2-2*j)   #s2 = p1*q1*x^{k+l+2-2j}\n",
    "    r50 = sub(r4,s2)           #r50 = r4-s2\n",
    "    r5 = shift(r50,j)          # r5 = r50*x^j\n",
    "    # Now put the final result together\n",
    "    r12 = add(r1,r5)\n",
    "    r6 = shift(r2,k+l+2)\n",
    "    res = add(r12,r6)\n",
    "    return res    "
   ]
  },
  {
   "cell_type": "code",
   "execution_count": 26,
   "metadata": {
    "collapsed": false
   },
   "outputs": [
    {
     "name": "stdout",
     "output_type": "stream",
     "text": [
      "$+1.0-2.0*x-1.0*x^2+2.0*x^3+20.0*x^4-6.0*x^5-35.0*x^6-6.0*x^7+106.0*x^8+101.0*x^9+34.0*x^10-32.0*x^11+142.0*x^12+218.0*x^13+161.0*x^14+33.0*x^15+103.0*x^16+100.0*x^17+119.0*x^18+42.0*x^19+98.0*x^20+56.0*x^21+49.0*x^24+49.0*x^25$\n",
      "$$\n"
     ]
    }
   ],
   "source": [
    "p61=karatsubaMultiply(p1,p6) # karatsuba\n",
    "prettyPrintPolynomial(p61)\n",
    "p62=gradeSchoolMultiply(p1,p6) # vs gradeschool\n",
    "d = sub(p61,p62)\n",
    "prettyPrintPolynomial(d)"
   ]
  },
  {
   "cell_type": "code",
   "execution_count": 44,
   "metadata": {
    "collapsed": false
   },
   "outputs": [],
   "source": [
    "import random\n",
    "def testKarat(n,nTrials):  # Compare both multiplications on random polynomials\n",
    "    for t in range(0,nTrials):\n",
    "        m = random.randint(int(n/2),n)\n",
    "        a = [random.randint(0,10) for i in range(0,m)]\n",
    "        b = [random.randint(0,10) for i in range(0,n)]\n",
    "        p1 = gradeSchoolMultiply(a,b)\n",
    "        p2 = karatsubaMultiply(a,b)\n",
    "        d0 = sub(p1,p2)\n",
    "        # Check if the difference is all 0 by looking for nonzero coefficients\n",
    "        # of the difference polynomial\n",
    "        d = [i for (i,e) in enumerate(d0) if e != 0.0]\n",
    "        if (len(d) > 0): # There is a nonzero coefficient\n",
    "            print('FAILED:')\n",
    "            print(a)\n",
    "            print(b)\n",
    "            print(d)\n",
    "            assert(False)\n",
    "    # Otherwise, we ran through all tests without finding a discrepancy\n",
    "    print('Success')"
   ]
  },
  {
   "cell_type": "code",
   "execution_count": 43,
   "metadata": {
    "collapsed": false
   },
   "outputs": [
    {
     "name": "stdout",
     "output_type": "stream",
     "text": [
      "Success\n",
      "Success\n"
     ]
    }
   ],
   "source": [
    "testKarat(30,1000)\n",
    "testKarat(50,1000)"
   ]
  },
  {
   "cell_type": "markdown",
   "metadata": {},
   "source": [
    "## Complexity Analysis\n",
    "\n",
    "Let $T(n)$ be the number of steps needed to multiply two polynomials, both of size $n$ in the worst case using Karatsuba.\n",
    "\n",
    "We have that each run then generates three recursive calls each of size $\\frac{n}{2}$ and furthermore, involves a bunch of additions, subtractions and shifts, all of which are $\\Theta(n)$.\n",
    "\n",
    "Therefore,\n",
    "\n",
    "$$ T(n) = \\begin{cases} \n",
    " 3 T\\left(\\frac{n}{2}\\right) + \\Theta(n) & n > 6 \\\\\n",
    "  C & n \\leq 6 \\\\\n",
    "  \\end{cases}$$\n",
    "  \n",
    "  This recurrence can be solved by master method and yields $T(n) = \\Theta(n^{\\log_2(3)}) = \\Theta(n^{1.54...})$.\n",
    "  Thus the Karatsuba algorithm is asymptotically faster than grade school"
   ]
  },
  {
   "cell_type": "code",
   "execution_count": null,
   "metadata": {
    "collapsed": true
   },
   "outputs": [],
   "source": []
  }
 ],
 "metadata": {
  "kernelspec": {
   "display_name": "Python 3",
   "language": "python",
   "name": "python3"
  },
  "language_info": {
   "codemirror_mode": {
    "name": "ipython",
    "version": 3
   },
   "file_extension": ".py",
   "mimetype": "text/x-python",
   "name": "python",
   "nbconvert_exporter": "python",
   "pygments_lexer": "ipython3",
   "version": "3.5.2"
  }
 },
 "nbformat": 4,
 "nbformat_minor": 0
}
