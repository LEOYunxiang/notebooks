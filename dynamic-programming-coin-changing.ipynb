{
 "cells": [
  {
   "cell_type": "markdown",
   "metadata": {},
   "source": [
    "# Coin Changing as a Dynamic Program\n",
    "\n",
    "In this notebook, we are going to explore the dynamic programming solution to the coin changing problem.\n",
    "\n",
    "**Input:** A list of coin denominations <code> lst:[c1,c2,..,cj] </code> and an amount <code> x  </code> to make change for.\n",
    "<p>\n",
    "**Output:** Numbers <code> [n1, n2, ..., nj] </code> such that <code> n1*c1 + n2*c2 +... +nj*cj = x </code> and the number of coins <code> n1+n2+...+nj </code> is the smallest possible."
   ]
  },
  {
   "cell_type": "code",
   "execution_count": 1,
   "metadata": {
    "collapsed": true
   },
   "outputs": [],
   "source": [
    "%matplotlib inline\n",
    "\n",
    "import matplotlib\n",
    "import numpy as np\n",
    "import matplotlib.pyplot as plt\n",
    "import matplotlib.lines as mlines\n",
    "import time"
   ]
  },
  {
   "cell_type": "code",
   "execution_count": 2,
   "metadata": {
    "collapsed": true
   },
   "outputs": [],
   "source": [
    "#Example-0\n",
    "lst0 = [1,2,4,5,7] # Let us take 1cents, 2cents, 4cents, .., 7 cents\n",
    "x0 = 17 # What is the best way to make change for 17 cents"
   ]
  },
  {
   "cell_type": "markdown",
   "metadata": {},
   "source": [
    "## Dynamic Programming Solution\n",
    "\n",
    "1. We are going to define a __recursive function__ $$minCoins(lst,x)$$ that will return the minimum number of coins needed to make change given $lst$ of coin denominations and $x$ the amount to make change for.\n",
    "\n",
    "2. We will then make the recursive function efficient in two ways: (a) top-down way of memoizing the recursion using a hash table and (b) bottom up way of building and calculating entries of a memo table.\n",
    "\n",
    "3. We will show how from $minCoins(lst,x)$, we can also figure out the optimal way to give change."
   ]
  },
  {
   "cell_type": "markdown",
   "metadata": {},
   "source": [
    "### 1. Formulating the recursive function\n",
    "<p>\n",
    "Let $lst: [c_1, c_2, \\ldots, c_j]$ and $x> 0$ be the amount to be changed. We will first work at the base cases of the recurrence $$minCoins(lst,x)$$\n",
    "\n",
    "__Base Case #1 __  If $x = 0$, no amount needs to be changed. \n",
    "$$minCoins(lst,0) = 0$$.\n",
    "\n",
    "<p>\n",
    "__Base Case #2 __ If $x > 0$ but $lst = []$ is the empty list, then we have change to make but no coins to make change with, or alternatively only a fictitious 0 cent coins. This is an _undesirable situation_. Therefore, we set its value to $+\\infty$.\n",
    "$$minCoins(lst,x) = \\infty,\\ \\text{if}\\ lst = []\\ \\text{and}\\ x > 0 $$ \n",
    "\n",
    "<p>\n",
    "\n",
    "__Recursive Definition__ Assume that none of the base cases hold. Let $lst: [c_1, c_2, \\ldots, c_j]$ and $x> 0$ be the amount to be changed.\n",
    "\n",
    "Let us focus on the last entry $c_j$ of the list. \n",
    "1. We can decide to use the coin $c_j$ or not. \n",
    "2. More generally, if $p_j = \\lfloor \\frac{x}{c_j} \\rfloor$, then we can choose to use $c_j$ not at all (0 times), once, twice, and so on all the way up to $p_j$ times. \n",
    "3. Once we commit to using the coin $c_j$ some number of times, we are left with the sub problem involving $lst': [c_1, \\ldots, c_{j-1}]$ and a modified amount $x - s_j c_j$ if coin $c_j$ ended up being used $s_j$ times.\n",
    "\n",
    "\n",
    "$$minCoins([c_1,\\ldots,c_j],x):\\ \\min\\ \\begin{cases} \n",
    "minCoins([c_1,\\ldots,c_{j-1}],x) & \\leftarrow c_j\\ \\text{is not used at all} \\\\\n",
    "1 + minCoins([c_1,\\ldots,c_{j-1}], x- c_j) & \\leftarrow c_j\\ \\text{is used once}\\\\\n",
    "\\vdots & \\\\\n",
    "p_j + minCoins([c_1,\\ldots,c_{j-1}], x - p_j c_j) & \\leftarrow c_j\\ \\text{is used}\\ p_j\\ \\text{times}\\\\\n",
    "\\end{cases}$$\n",
    "\n",
    "\n",
    "<p>\n",
    "The recurrence and bases cases above are directly implemented in python\n",
    "\n",
    "\n",
    "    "
   ]
  },
  {
   "cell_type": "code",
   "execution_count": 3,
   "metadata": {
    "collapsed": false
   },
   "outputs": [
    {
     "name": "stdout",
     "output_type": "stream",
     "text": [
      "Minimum number of coins needed for [1, 2, 4, 5, 7] --> 3\n"
     ]
    }
   ],
   "source": [
    "def minCoinsRec(lst,x):\n",
    "    j = len(lst) # the length of the list\n",
    "    # Base case\n",
    "    if (x == 0):\n",
    "        return 0\n",
    "    elif (j == 0): # List is empty\n",
    "        return 100000000 # Return a really large number as a place holder for infinity.\n",
    "    # Otherwise, implement the recursive function\n",
    "    \n",
    "    cj = lst[j-1] # the last element\n",
    "    lst1 = lst[0:j-1] # all elements of the list but the last one\n",
    "    pj = int(x/cj) # How many times can coin cj be used\n",
    "    minValue = 100000000 #Initialize to a very large number\n",
    "    for i in range(0,pj+1): # Includes both 0 and pj\n",
    "        v = i + minCoinsRec(lst1, x - i * cj) # Make a recursive call\n",
    "        if (v < minValue):\n",
    "            minValue = v\n",
    "    return minValue # Return the final answer\n",
    "\n",
    "# Let us try it on the lst0 example above\n",
    "j = minCoinsRec(lst0,x0)\n",
    "print('Minimum number of coins needed for',lst0,'-->', j)\n"
   ]
  },
  {
   "cell_type": "code",
   "execution_count": 10,
   "metadata": {
    "collapsed": true
   },
   "outputs": [],
   "source": [
    "#Let us try it on a larger example\n",
    "lst1=[1,2,4,8]\n",
    "x1 = 4196"
   ]
  },
  {
   "cell_type": "markdown",
   "metadata": {},
   "source": [
    "## Top-down memoization\n",
    "\n",
    "As noted, the recursion is quite slow even for tiny inputs. Let us try a simple strategy.\n",
    "Each time a recursive call returns, we add the inputs and outputs to a hash table or a dictionary.\n",
    "Before we do so, we note that\n",
    "\n",
    "1. If $lst$ is the original list of coins, all recursive calls involve\n",
    "some prefix of elements $lst[0],\\ldots,lst[k]$ for some $k$. \n",
    "\n",
    "2. The value of $x$ in every recursive call, is between $0$ and the original value of $x$ for which we are solving the problem.\n",
    "\n",
    "\n",
    "The dictionary will have two arguments, $(k,x)$ that specify the list prefix length and x, the amount to make change.\n"
   ]
  },
  {
   "cell_type": "code",
   "execution_count": 11,
   "metadata": {
    "collapsed": true
   },
   "outputs": [],
   "source": [
    "def minCoinsMemo(lst,hTbl,x):\n",
    "    j = len(lst) # the length of the list\n",
    "    # Base case\n",
    "    if (x == 0):\n",
    "        return 0\n",
    "    elif (j == 0): # List is empty\n",
    "        return 100000000 # Return a really large number as a place holder for infinity.\n",
    "    # Otherwise, implement the recursive function\n",
    "    # MODIFICATION #1\n",
    "    # Check if hTbl already has the entry (j,x)\n",
    "    if ( (j,x) in hTbl):\n",
    "        return hTbl[(j,x)]\n",
    "    \n",
    "    cj = lst[j-1] # the last element\n",
    "    lst1 = lst[0:j-1] # all elements of the list but the last one\n",
    "    pj = int(x/cj) # How many times can coin cj be used\n",
    "    minValue = 100000000 #Initialize to a very large number\n",
    "    for i in range(0,pj+1): # Includes both 0 and pj\n",
    "        v = i + minCoinsMemo(lst1, hTbl,x - i * cj) # Make a recursive call\n",
    "        if (v < minValue):\n",
    "            minValue = v\n",
    "    \n",
    "    #Store the result into the hash table.\n",
    "    hTbl[(j,x)] = minValue\n",
    "    \n",
    "    return minValue # Return the final answer\n",
    "\n"
   ]
  },
  {
   "cell_type": "code",
   "execution_count": 12,
   "metadata": {
    "collapsed": false
   },
   "outputs": [
    {
     "name": "stdout",
     "output_type": "stream",
     "text": [
      "Running on list: [1, 2, 4, 8]  amount to change:  4196\n",
      "Minumum number of coins needed: 525\n"
     ]
    }
   ],
   "source": [
    "print('Running on list:', lst1, ' amount to change: ', x1)\n",
    "j = minCoinsMemo(lst1,{},x1) # This is still slow but finishes in a few seconds\n",
    "print('Minumum number of coins needed:',j)"
   ]
  },
  {
   "cell_type": "markdown",
   "metadata": {},
   "source": [
    "## Extracting The Solution\n",
    "\n",
    "To extract the solution, we cache for each value of change $(j,x)$ encountered in the recurrence, a list that tells us how to make change for $x$ optimally using coins $[c_1,\\ldots,c_j]$.\n"
   ]
  },
  {
   "cell_type": "code",
   "execution_count": 13,
   "metadata": {
    "collapsed": true
   },
   "outputs": [],
   "source": [
    "def minCoinsMemoAndExtractSolution(lst,hTbl,solutionTbl,x):\n",
    "    j = len(lst) # the length of the list\n",
    "    # Base case\n",
    "    if (x == 0):\n",
    "        return 0\n",
    "    elif (j == 0): # List is empty\n",
    "        return 100000000 # Return a really large number as a place holder for infinity.\n",
    "    # Otherwise, implement the recursive function\n",
    "    # MODIFICATION #1\n",
    "    # Check if hTbl already has the entry (j,x)\n",
    "    if ( (j,x) in hTbl):\n",
    "        return hTbl[(j,x)]\n",
    "    \n",
    "    cj = lst[j-1] # the last element\n",
    "    lst1 = lst[0:j-1] # all elements of the list but the last one\n",
    "    pj = int(x/cj) # How many times can coin cj be used\n",
    "    bestOption = -1\n",
    "    minValue = 100000000 #Initialize to a very large number\n",
    "    for i in range(0,pj+1): # Includes both 0 and pj\n",
    "        v = i + minCoinsMemoAndExtractSolution(lst1, hTbl, solutionTbl, x - i * cj) # Make a recursive call\n",
    "        if (v < minValue):\n",
    "            minValue = v\n",
    "            bestOption = i\n",
    "    #Store the result into the hash table.\n",
    "    hTbl[(j,x)] = minValue\n",
    "    solutionTbl[(j,x)] = i\n",
    "    return minValue # Return the final answer"
   ]
  },
  {
   "cell_type": "code",
   "execution_count": 14,
   "metadata": {
    "collapsed": true
   },
   "outputs": [],
   "source": [
    "# We will extract a solution using the solution table.\n",
    "def extractSolution(lst,solutionTbl,x):\n",
    "    j = len(lst) \n",
    "    cj = lst[-1]\n",
    "    lst1 = lst[0:-1]\n",
    "    if (x == 0):\n",
    "        return []\n",
    "    elif (j == 0):\n",
    "        print('Warning: no solution')\n",
    "        return None\n",
    "    # Lookup the solution table for (j,x)\n",
    "    assert((j,x) in solutionTbl) # It better be in the table\n",
    "    i = solutionTbl[(j,x)] # Let i be the best option for using coin cj\n",
    "    y = x - cj * i # Remaining amount if cj is used i times\n",
    "    sol0= extractSolution(lst1,solutionTbl,y) # Recursive extract solution for the smaller list and amounts\n",
    "    if (sol0 == None): # If no solution for lst1, y pass that on\n",
    "        return None # \n",
    "    sol0.append((cj,i)) # Otherwise, take that solution and add (cj,i) to it\n",
    "    return sol0 # return\n",
    "        "
   ]
  },
  {
   "cell_type": "code",
   "execution_count": 15,
   "metadata": {
    "collapsed": false
   },
   "outputs": [
    {
     "name": "stdout",
     "output_type": "stream",
     "text": [
      "Coin: 4  number: 1\n",
      "Coin: 8  number: 524\n"
     ]
    }
   ],
   "source": [
    "solutionTbl={}\n",
    "lst1\n",
    "x1\n",
    "mValue = minCoinsMemoAndExtractSolution(lst1,{},solutionTbl,x1)\n",
    "sol = extractSolution(lst1,solutionTbl,x1)\n",
    "if (sol == None):\n",
    "    print('No solution')\n",
    "else:\n",
    "    r = [print('Coin:',c,' number:',i) for (c,i) in sol]"
   ]
  },
  {
   "cell_type": "markdown",
   "metadata": {},
   "source": [
    "## Bottomup Memoization\n",
    "\n",
    "Top-down memoization just augments the recursion with a hash table. We can go bottom-up. Where we just construct a table of all possible recursive calls and fill it in. \n",
    "\n",
    "If we go back to the minCoins recurrence, let $lst: [c_1,\\ldots,c_n]$ be the original list and $x$ be the original amount.\n",
    "\n",
    "1. Every subsequent call is of the form $\\overline{lst}: [c_1,\\ldots, c_j]$ for some $j \\geq 0$ and some amount $0 \\leq y < x$.\n",
    "\n",
    "Let us make a 2D memo table where the rows are the amounts from $0, 1, 2, \\ldots, x$ and the columns are values of $j$ from $j=0, 1, 2,\\ldots, n$ denoting the lists $[c_1,\\ldots,c_j]$. For $j=0$, we get the empty list.\n",
    "\n",
    "$$\\begin{array}{|c|c|c|c|c|c|}\n",
    "\\hline\n",
    "   & [] & [c_1] & [c_1, c_2] & \\cdots & [c_1, c_2, \\ldots, c_{n-1}] & [c_1, \\ldots, c_n] \\\\\n",
    "   \\hline\n",
    " 0 & 0 & 0 & 0 &  \\cdots &  0&  0\\\\\n",
    " 1 & \\infty & & & & & \\\\\n",
    " 2 & \\infty & & & & & \\\\\n",
    " \\vdots & & & & \\ddots & & \\\\\n",
    " x & \\infty & & \\cdots & & &  ?? \\\\\n",
    " \\hline\n",
    "\\end{array}$$\n",
    "\n",
    "The memo table has size $n \\times x$ and we fill the table in starting from top left corner to the bottom right corner. The moment the bottom right corner is filled in, we have solved the original problem!\n"
   ]
  },
  {
   "cell_type": "code",
   "execution_count": 16,
   "metadata": {
    "collapsed": true
   },
   "outputs": [],
   "source": [
    "def minCoinsBottomUpMemoTable(lst,x):\n",
    "    n = len(lst)\n",
    "    # Create a memo table with (x+1) rows and (n+1) columns\n",
    "    memoTbl =  [ [0 for i in range(0,n+1) ] for j in range(0,x+1) ]\n",
    "    solutionTbl = [[ -1 for i in range(0,n+1)] for j in range(0,x+1)]\n",
    "    # No need to fill in the 0s in the table\n",
    "    for y in range(1,x+1):\n",
    "        memoTbl[y][0] = 1000000\n",
    "        for j in range(1,n+1):\n",
    "            cj = lst[j-1]\n",
    "            if (y < cj):\n",
    "                memoTbl[y][j] = memoTbl[y][j-1]\n",
    "                solutionTbl[y][j] = 0\n",
    "            else:\n",
    "                pj = int(y/cj)\n",
    "                assert(pj > 0)\n",
    "                minValue= 1000000\n",
    "                bestOption = -1\n",
    "                for i in range(0,pj+1):\n",
    "                    l = i+memoTbl[y-i*cj][j-1]\n",
    "                    if (l < minValue):\n",
    "                        minValue = l\n",
    "                        bestOption = i\n",
    "                #Update memo table and solution tables\n",
    "                memoTbl[y][j] = minValue\n",
    "                solutionTbl[y][j] = bestOption\n",
    "    # Done\n",
    "    print('Minimum number of coins needed:', memoTbl[x][n])\n",
    "    # Extracting solution\n",
    "    j = n\n",
    "    y = x\n",
    "    while (y > 0 and j >= 0):\n",
    "        k = solutionTbl[y][j]\n",
    "        print('Coin:', lst[j-1], ' # Times:', k)\n",
    "        y = y - k * lst[j-1]\n",
    "        j = j -1\n",
    "    \n",
    "    \n",
    "\n",
    "    "
   ]
  },
  {
   "cell_type": "code",
   "execution_count": 17,
   "metadata": {
    "collapsed": false
   },
   "outputs": [
    {
     "name": "stdout",
     "output_type": "stream",
     "text": [
      "Minimum number of coins needed: 525\n",
      "Coin: 8  # Times: 524\n",
      "Coin: 4  # Times: 1\n"
     ]
    }
   ],
   "source": [
    "lst1\n",
    "x1\n",
    "minCoinsBottomUpMemoTable(lst1,x1)"
   ]
  },
  {
   "cell_type": "code",
   "execution_count": 18,
   "metadata": {
    "collapsed": true
   },
   "outputs": [],
   "source": [
    "def measureRunningTimeComplexity(fun,lst,x):\n",
    "    t0 = time.clock()\n",
    "    fun(lst,x)\n",
    "    t1 = time.clock() # A rather crude way to time the process.\n",
    "    return (t1 - t0)"
   ]
  },
  {
   "cell_type": "code",
   "execution_count": 20,
   "metadata": {
    "collapsed": false
   },
   "outputs": [
    {
     "name": "stdout",
     "output_type": "stream",
     "text": [
      "[1] 9\n",
      "Minimum number of coins needed: 9\n",
      "Coin: 1  # Times: 9\n",
      "[1, 2] 15\n",
      "Minimum number of coins needed: 8\n",
      "Coin: 2  # Times: 7\n",
      "Coin: 1  # Times: 1\n",
      "[1, 2, 4] 27\n",
      "Minimum number of coins needed: 8\n",
      "Coin: 4  # Times: 6\n",
      "Coin: 2  # Times: 1\n",
      "Coin: 1  # Times: 1\n",
      "[1, 2, 4, 8] 51\n",
      "Minimum number of coins needed: 8\n",
      "Coin: 8  # Times: 6\n",
      "Coin: 4  # Times: 0\n",
      "Coin: 2  # Times: 1\n",
      "Coin: 1  # Times: 1\n",
      "[1, 2, 4, 8, 16] 99\n",
      "Minimum number of coins needed: 8\n",
      "Coin: 16  # Times: 6\n",
      "Coin: 8  # Times: 0\n",
      "Coin: 4  # Times: 0\n",
      "Coin: 2  # Times: 1\n",
      "Coin: 1  # Times: 1\n",
      "[1, 2, 4, 8, 16, 32] 195\n",
      "Minimum number of coins needed: 8\n",
      "Coin: 32  # Times: 6\n",
      "Coin: 16  # Times: 0\n",
      "Coin: 8  # Times: 0\n",
      "Coin: 4  # Times: 0\n",
      "Coin: 2  # Times: 1\n",
      "Coin: 1  # Times: 1\n",
      "[1, 2, 4, 8, 16, 32, 64] 387\n",
      "Minimum number of coins needed: 8\n",
      "Coin: 64  # Times: 6\n",
      "Coin: 32  # Times: 0\n",
      "Coin: 16  # Times: 0\n",
      "Coin: 8  # Times: 0\n",
      "Coin: 4  # Times: 0\n",
      "Coin: 2  # Times: 1\n",
      "Coin: 1  # Times: 1\n"
     ]
    },
    {
     "data": {
      "image/png": "[encoded data removed]",
      "text/plain": [
       "<matplotlib.figure.Figure at 0x10ed4d438>"
      ]
     },
     "metadata": {},
     "output_type": "display_data"
    }
   ],
   "source": [
    "# Let us generate a plot of the running times\n",
    "nList=[]\n",
    "bottomUpTimes=[]\n",
    "topDownTimes=[]\n",
    "for i in range(1,8):\n",
    "    lst=[2**j for j in range(0,i) ]\n",
    "    x = 2**(i+1)+ 2**i+3\n",
    "    print(lst,x)\n",
    "    t1 = measureRunningTimeComplexity(minCoinsBottomUpMemoTable,lst,x)\n",
    "    t2 = measureRunningTimeComplexity(minCoinsRec,lst,x)\n",
    "    nList.append(i)\n",
    "    bottomUpTimes.append(t1)\n",
    "    topDownTimes.append(t2)\n",
    "\n",
    "\n",
    "plt1=plt.plot(nList,bottomUpTimes,'-b*')\n",
    "plt2=plt.plot(nList,topDownTimes,'-ro')\n",
    "plt.xlabel('n (number of coins)')\n",
    "plt.ylabel('Running time (seconds)')\n",
    "plt.title('Comparing bottom up with recursive')\n",
    "##plt.legend([plt1,plt2],['Bottom Up','Recursive'])\n",
    "plt.grid(True)"
   ]
  },
  {
   "cell_type": "code",
   "execution_count": null,
   "metadata": {
    "collapsed": true
   },
   "outputs": [],
   "source": []
  }
 ],
 "metadata": {
  "kernelspec": {
   "display_name": "Python 3",
   "language": "python",
   "name": "python3"
  },
  "language_info": {
   "codemirror_mode": {
    "name": "ipython",
    "version": 3
   },
   "file_extension": ".py",
   "mimetype": "text/x-python",
   "name": "python",
   "nbconvert_exporter": "python",
   "pygments_lexer": "ipython3",
   "version": "3.5.1"
  }
 },
 "nbformat": 4,
 "nbformat_minor": 0
}
