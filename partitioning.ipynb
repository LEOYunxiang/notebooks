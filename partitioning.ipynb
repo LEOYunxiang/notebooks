{
 "cells": [
  {
   "cell_type": "markdown",
   "metadata": {},
   "source": [
    "# Partitioning an array\n",
    "### Sriram Sankaranarayanan <srirams@colorado.edu>\n",
    "\n",
    "In this notebook, we carefully go over the existing partition algorithms to be used in quicksort to understand some of the finer details.\n",
    "\n",
    "In particular, we covered two algorithms in class:\n",
    "\n",
    "- Lomuto partitioning scheme: this approach partitions from left to right and maintains two regions of array elements.\n",
    "\n",
    "- Hoare partitioning scheme: this approach partitions starting from both ends of the array that meet in the middle.\n",
    "\n",
    "This notebook will explain the loop invariants that will be maintained as we partition.\n",
    "\n",
    "## What is Partitioning?\n",
    "\n",
    "Consider an array $a$:\n",
    "\n",
    "$$ a: [ 2, 1, 3, 5, 6, 7, 8, 2, 3, 2, \\mathbf{4} ] $$\n",
    "\n",
    "We choose a special element called the _pivot_. Here the pivot will be chosen as the last element $4$.\n",
    "In general, let the array have $n$ elements and be written as\n",
    "\n",
    "$$ a: \\left[\\ a[0], a[1], \\ldots, \\mathbf{a[n-1]}\\ \\right]\\,. $$\n",
    "\n",
    "Let $x = a[n-1]$ represent the chosen pivot.\n",
    "\n",
    "The act of partitioning _permutes_ or rearranges the array $a$ in-place so that after partitioning, the new array $\\hat{a}$ obtained after partitioning has the following structure (for convenience, we pretend this is a new array and call it $\\hat{a}$, but our implementation will not create new space).\n",
    "\n",
    "$$\\hat{a}:\\ \\left[\\ \\hat{a}[0], \\ldots, \\mathbf{\\hat{a}[j]}, \\ldots, \\hat{a}[n-1]\\ \\right]$$\n",
    "\n",
    "- $(\\forall\\ k \\in [0,j)\\ a[k] \\leq x$ (_every element in the range from $0$ to $j-1$ is less than or equal to $x$_ )\n",
    "- $(\\forall\\ l \\in (j,n-1] )\\ a[l] \\geq x$, (_every element in the range from $j+1$ to $n-1$ is greater than or equal to $x$_)\n",
    "- $a[j] == x$ (_ the element at $j$ equals $x$_ ).\n",
    "\n",
    "\n",
    "Let us write a function called 'isPartitioned' that given $a$, $j$ checks that $a$ has been indeed partitioned at location $j$. We will never need to call such a function but it is good to test whether our algorithms are correct.\n"
   ]
  },
  {
   "cell_type": "code",
   "execution_count": 1,
   "metadata": {
    "collapsed": true
   },
   "outputs": [],
   "source": [
    "def isPartitioned(a, j, verbose=True):\n",
    "    # Check that the array a is properly partitioned at position j\n",
    "    n = len(a)\n",
    "    assert ( j >= 0 and j < n) # otherwise this makes no sense to \n",
    "                               # say array a is partitioned at j\n",
    "    fail = False\n",
    "    x = a[j] # the value of the pivot\n",
    "    if verbose:\n",
    "        print('The pivot is:', x)\n",
    "    # Check all elements before the pivot\n",
    "    for k in range(0, j): # recall range in python runs from 0 to j-1\n",
    "        if (a[k] > x):\n",
    "            if (verbose):\n",
    "                print( 'Partition fails at position: a[%d] =  %d'%(k, a[k]) )\n",
    "            fail = True\n",
    "    for k in range(j+1, n):\n",
    "        if (a[k] < x):\n",
    "            if (verbose):\n",
    "                print('Partition fails at position a[%d] = %d'%(k, a[k]))\n",
    "            fail = True\n",
    "    if verbose:\n",
    "        if (not fail):\n",
    "            print('-> Partition is correct (trumpets please)')\n",
    "        else:\n",
    "            print('-> Partitioned failed (wawa trombones please)')\n",
    "    return (not fail)"
   ]
  },
  {
   "cell_type": "code",
   "execution_count": 2,
   "metadata": {
    "collapsed": false
   },
   "outputs": [
    {
     "name": "stdout",
     "output_type": "stream",
     "text": [
      "The pivot is: 15\n",
      "Partition fails at position a[6] = 4\n",
      "Partition fails at position a[7] = 5\n",
      "Partition fails at position a[8] = 7\n",
      "Partition fails at position a[9] = 9\n",
      "-> Partitioned failed (wawa trombones please)\n"
     ]
    },
    {
     "data": {
      "text/plain": [
       "False"
      ]
     },
     "execution_count": 2,
     "metadata": {},
     "output_type": "execute_result"
    }
   ],
   "source": [
    "# Test 1\n",
    "a = [1,4,6,7,1,15,4, 5, 7, 9]\n",
    "j = 5\n",
    "isPartitioned(a,j) # This is not partitioned since the pivot 15, has elements smaller than it to the right."
   ]
  },
  {
   "cell_type": "code",
   "execution_count": 3,
   "metadata": {
    "collapsed": false
   },
   "outputs": [
    {
     "name": "stdout",
     "output_type": "stream",
     "text": [
      "The pivot is: 7\n",
      "-> Partition is correct (trumpets please)\n"
     ]
    },
    {
     "data": {
      "text/plain": [
       "True"
      ]
     },
     "execution_count": 3,
     "metadata": {},
     "output_type": "execute_result"
    }
   ],
   "source": [
    "# Test 2\n",
    "a = [ 1, 4, 6, 1, 3, 5, 6, 7, 8, 9, 8, 7, 10, 12, 11, 8]\n",
    "j = 7 # This array is correctly partitioned around the pivot element 7 at a[7]\n",
    "isPartitioned(a,j)"
   ]
  },
  {
   "cell_type": "markdown",
   "metadata": {},
   "source": [
    "## Partitioning Schemes\n",
    "\n",
    "Each partitioning scheme starts from the given array, with designated pivot (the last element of the array) and proceeds to move elements around until the array is fully partitioned. Keep this picture in mind:\n",
    "\n",
    "`[..Original Array..] ==> [.. Intermediate Array .. ] ==> [.. Final Partitioned Array..]`\n",
    "\n",
    "\n",
    "## Lomuto Partitioning Scheme\n",
    "\n",
    "This scheme is credited to _Nico Lomuto_  and is called the Lomuto scheme. It is simple, elegant and rather easy to code/get correct.\n",
    "\n",
    "To understand this code, we need to comprehend the key property that it maintains:\n",
    "\n",
    "- There are two indices or pointers `i` and `j` that will demarcate some regions of the array.\n",
    "- Initially, `i = -1` and `j = 0`, but as the algorithm progresses, it will make sure that \n",
    "   `i <= n-1, i <= j, and j <= n-1`\n",
    "- Let us call the region between `[0,i]` (both ends inclusive as denoted by the square brackets) region A and the region `[i+1, j-1]` region B.\n",
    "\n",
    "$$ {\\large[}\\; \\underset{\\mbox{Region A}}{\\underbrace{ a[0], a[1], \\cdots, a[i] }},\\ \\ \\underset{\\mbox{Region B}}{\\underbrace{a[i+1], \\ldots, a[j-1]}},\\ \\underset{\\mbox{To Be Processed}}{\\underbrace{\\mathbf{a[j]}, \\ldots, a[n-2]}},\\ \\mathbf{x} \\ {\\large]} $$\n",
    "\n",
    "The invariants are as follows:\n",
    "\n",
    "- $\\forall\\ k \\in [0,i]\\; a[k] \\leq x \\,.$ _ Every element in region A is less than or equal to pivot _ \n",
    "- $\\forall\\ k \\in [i+1,j-1]\\; a[k] > x \\,.$ _ Every element in region B is strictly greater than the pivot _ \n",
    "- $a[n-1] = x$, _ The pivot stays at position n-1 _ \n",
    "\n",
    "The algorithm itself proceeds by shrinking the ``to be processed region`` by one element each time. This is achieved at each step by taking `a[j]` the element at the head of this region and placing it in the correct place.\n",
    "\n",
    "- **Case 1:** `a[j] <= x`: this element needs to go into region A. How do we do this? Here is what things look like at the start of the operation:\n",
    "    <table style=\"border:none\">\n",
    "    <tr><td bgcolor=\"#FFCCCC\"> <pre> <span style=\"bgcolor:red\">a[0], a[1], .., a[i] </span> </pre> <td bgcolor=\"#CCCCFF\"> <pre>  <span style=\"color:blue\">a[i+1], a[i+2], ... , a[j-1]</span> </pre> <td> <pre> <span style=\"color:green\"> a[j] </span>, ... rest </pre> </tr>\n",
    "     <tr><td style=\"text-align:center\"><pre> <span style=\"color:red\"> |------- Region A ------| </span><td style=\"text-align: center\"> <span style=\"color:blue\"> |--------  Region B --------| </span> <td style=\"text-align:center\"> |--- To be processed </pre>\n",
    "     </table> \n",
    "     \n",
    "* Swap `a[j]` with `a[i+1]`: \n",
    "    <table style=\"border:none\">\n",
    "    <tr><td bgcolor=\"#FFCCCC\"> <pre> <span style=\"color:red\">a[0], a[1], .., a[i] </span> <td bgcolor=\"#CCCCFF\"> <pre> <span style=\"color:green\">a[j]</span>, <span style=\"color:blue\"> a[i+2], ... , a[j-1]</span></pre> <td> <pre> <span style=\"color:blue\"> a[i+1] </span>, ... rest</pre>\n",
    "     </table>\n",
    "     \n",
    "* Increment `i, j` moving regions A and B to the left.\n",
    "    <table style=\"border:none\">\n",
    "    <tr><td bgcolor=\"#FFCCCC\"> <pre> <span style=\"color:red\">a[0], a[1], .., a[i], a[j] </span> </pre> <td bgcolor=\"#CCCCFF\"><pre> <span style=\"color:blue\"> a[i+2], ... , a[j-1]</span>, <span style=\"color:blue\"> a[i+1] </span></pre><td> <pre> ... rest</pre>\n",
    "     </table>\n",
    "\n",
    "\n",
    "\n",
    "\n",
    "\n",
    "\n",
    "- **Case 2:** `a[j] > x`: this element needs to go into region B. Once again, here is how things look at the start of the operation:\n",
    "  <table style=\"border:none\">\n",
    "    <tr><td> <pre> <span style=\"color:red\">a[0], a[1], .., a[i] </span>, <span style=\"color:blue\">a[i+1], a[i+2], ... , a[j-1]</span>, <span style=\"color:green\"> a[j] </span>, ... rest</pre>\n",
    "     <tr><td><pre> <span style=\"color:red\">|---- Region A ------| </span><span style=\"color:blue\">|--------  Region B ------| </span> |--- To be processed </pre>\n",
    "     </table>\n",
    "* Increment `j` to move the region B to the right and encompass this new element `a[j]`.\n",
    "  <table style=\"border:none\">\n",
    "    <tr><td> <pre> <span style=\"color:red\">a[0], a[1], .., a[i] </span>, <span style=\"color:blue\">a[i+1], a[i+2], ... , a[j-1]</span>, <span style=\"color:blue\"> a[j] </span>, ... rest</pre>\n",
    "     <tr><td><pre> <span style=\"color:red\">|---- Region A ------| </span><span style=\"color:blue\">|--------  Region B --------------| </span> |--- To be processed </pre>\n",
    "     </table>\n",
    "\n",
    "\n",
    "\n",
    "\n"
   ]
  },
  {
   "cell_type": "code",
   "execution_count": 146,
   "metadata": {
    "collapsed": false
   },
   "outputs": [],
   "source": [
    "from IPython.core.display import display, HTML\n",
    "\n",
    "def printArrayHeader(n):\n",
    "    rstr='<tr><td> <pre> Indices --> </pre> </td> '\n",
    "    for k in range(0,n):\n",
    "        rstr += '<td bgcolor=\\\"#AA99BB\\\"> %d </td>'%(k)\n",
    "    rstr+= '</tr>'\n",
    "    return rstr\n",
    "\n",
    "def visualizeArray(a, i, j, last=False):\n",
    "    n = len(a)\n",
    "    rstr ='<tr><td> <pre> i=%d j=%d </pre> </td>'%(i,j)\n",
    "    for k in range(0,n-1):\n",
    "        if (k >= 0 and k <= i ):\n",
    "            rstr += '<td bgcolor = \\\"red\\\">  %d  </span> </td>'%(a[k])\n",
    "        elif (k == i+1 and last):\n",
    "            rstr += '<td> <b> %d </b>  </td>'%(a[k])\n",
    "        elif (k >= i+1 and k <= j-1):\n",
    "            rstr += '<td bgcolor=\\\"blue\\\"> %d </span> </td>'%(a[k])\n",
    "        else:\n",
    "            rstr += ' <td> %d </td>'%(a[k])\n",
    "    if (not last):\n",
    "        rstr += '  <td> <b> %d </b> </td> '%(a[n-1])\n",
    "    else:\n",
    "        rstr += '<td bgcolor=\\\"blue\\\"> %d </span> </td>'%(a[n-1])\n",
    "    #display(Markdown('\\n-------------------\\n'))\n",
    "    return rstr\n",
    "    "
   ]
  },
  {
   "cell_type": "code",
   "execution_count": 147,
   "metadata": {
    "collapsed": true
   },
   "outputs": [],
   "source": [
    "def swap(a, i, j):\n",
    "    assert( i >= 0 and j >= 0 and i < len(a) and j < len(a))\n",
    "    a[i], a[j] = a[j], a[i] # pythonic swap\n",
    "    \n",
    "def lomutoPartition(a, visualize=False):\n",
    "    n = len(a)\n",
    "    i = -1\n",
    "    j = 0\n",
    "    x = a[n-1]\n",
    "    \n",
    "    if visualize:\n",
    "        rstr=''\n",
    "        rstr += printArrayHeader(len(a))\n",
    "        rstr += visualizeArray(a,i,j)\n",
    "        \n",
    "    while (j < n-1):\n",
    "        if (a[j] <= x): # case-1\n",
    "            swap(a, j, i+1)\n",
    "            i = i + 1  # move regions A, B both to the left\n",
    "            j = j + 1\n",
    "        else: # case-2\n",
    "            j = j + 1\n",
    "        if visualize:\n",
    "            rstr += visualizeArray(a,i,j)\n",
    "    # we are not done yet, need to move the pivot, but where. \n",
    "    # Pivot rightfully belongs to the border between regions A and B.\n",
    "    # so we swap the first element of region B with the pivot.\n",
    "    swap(a, i+1, n-1)\n",
    "    if visualize:\n",
    "        rstr += visualizeArray(a,i,j,True)\n",
    "        rstr += '</tbody></table>'\n",
    "        display(HTML(rstr))\n",
    "    \n",
    "    return i+1 # return the position where the new pivot is"
   ]
  },
  {
   "cell_type": "code",
   "execution_count": 148,
   "metadata": {
    "collapsed": false
   },
   "outputs": [
    {
     "name": "stdout",
     "output_type": "stream",
     "text": [
      "Input: [12, 1, 13, 5, 6, 1, 3, 6, 7, 8, 12, 11, 14, 2, 8, 6]\n"
     ]
    },
    {
     "data": {
      "text/html": [
       "<tr><td> <pre> Indices --> </pre> </td> <td bgcolor=\"#AA99BB\"> 0 </td><td bgcolor=\"#AA99BB\"> 1 </td><td bgcolor=\"#AA99BB\"> 2 </td><td bgcolor=\"#AA99BB\"> 3 </td><td bgcolor=\"#AA99BB\"> 4 </td><td bgcolor=\"#AA99BB\"> 5 </td><td bgcolor=\"#AA99BB\"> 6 </td><td bgcolor=\"#AA99BB\"> 7 </td><td bgcolor=\"#AA99BB\"> 8 </td><td bgcolor=\"#AA99BB\"> 9 </td><td bgcolor=\"#AA99BB\"> 10 </td><td bgcolor=\"#AA99BB\"> 11 </td><td bgcolor=\"#AA99BB\"> 12 </td><td bgcolor=\"#AA99BB\"> 13 </td><td bgcolor=\"#AA99BB\"> 14 </td><td bgcolor=\"#AA99BB\"> 15 </td></tr><tr><td> <pre> i=-1 j=0 </pre> </td> <td> 12 </td> <td> 1 </td> <td> 13 </td> <td> 5 </td> <td> 6 </td> <td> 1 </td> <td> 3 </td> <td> 6 </td> <td> 7 </td> <td> 8 </td> <td> 12 </td> <td> 11 </td> <td> 14 </td> <td> 2 </td> <td> 8 </td>  <td> <b> 6 </b> </td> <tr><td> <pre> i=-1 j=1 </pre> </td><td bgcolor=\"blue\"> 12 </span> </td> <td> 1 </td> <td> 13 </td> <td> 5 </td> <td> 6 </td> <td> 1 </td> <td> 3 </td> <td> 6 </td> <td> 7 </td> <td> 8 </td> <td> 12 </td> <td> 11 </td> <td> 14 </td> <td> 2 </td> <td> 8 </td>  <td> <b> 6 </b> </td> <tr><td> <pre> i=0 j=2 </pre> </td><td bgcolor = \"red\">  1  </span> </td><td bgcolor=\"blue\"> 12 </span> </td> <td> 13 </td> <td> 5 </td> <td> 6 </td> <td> 1 </td> <td> 3 </td> <td> 6 </td> <td> 7 </td> <td> 8 </td> <td> 12 </td> <td> 11 </td> <td> 14 </td> <td> 2 </td> <td> 8 </td>  <td> <b> 6 </b> </td> <tr><td> <pre> i=0 j=3 </pre> </td><td bgcolor = \"red\">  1  </span> </td><td bgcolor=\"blue\"> 12 </span> </td><td bgcolor=\"blue\"> 13 </span> </td> <td> 5 </td> <td> 6 </td> <td> 1 </td> <td> 3 </td> <td> 6 </td> <td> 7 </td> <td> 8 </td> <td> 12 </td> <td> 11 </td> <td> 14 </td> <td> 2 </td> <td> 8 </td>  <td> <b> 6 </b> </td> <tr><td> <pre> i=1 j=4 </pre> </td><td bgcolor = \"red\">  1  </span> </td><td bgcolor = \"red\">  5  </span> </td><td bgcolor=\"blue\"> 13 </span> </td><td bgcolor=\"blue\"> 12 </span> </td> <td> 6 </td> <td> 1 </td> <td> 3 </td> <td> 6 </td> <td> 7 </td> <td> 8 </td> <td> 12 </td> <td> 11 </td> <td> 14 </td> <td> 2 </td> <td> 8 </td>  <td> <b> 6 </b> </td> <tr><td> <pre> i=2 j=5 </pre> </td><td bgcolor = \"red\">  1  </span> </td><td bgcolor = \"red\">  5  </span> </td><td bgcolor = \"red\">  6  </span> </td><td bgcolor=\"blue\"> 12 </span> </td><td bgcolor=\"blue\"> 13 </span> </td> <td> 1 </td> <td> 3 </td> <td> 6 </td> <td> 7 </td> <td> 8 </td> <td> 12 </td> <td> 11 </td> <td> 14 </td> <td> 2 </td> <td> 8 </td>  <td> <b> 6 </b> </td> <tr><td> <pre> i=3 j=6 </pre> </td><td bgcolor = \"red\">  1  </span> </td><td bgcolor = \"red\">  5  </span> </td><td bgcolor = \"red\">  6  </span> </td><td bgcolor = \"red\">  1  </span> </td><td bgcolor=\"blue\"> 13 </span> </td><td bgcolor=\"blue\"> 12 </span> </td> <td> 3 </td> <td> 6 </td> <td> 7 </td> <td> 8 </td> <td> 12 </td> <td> 11 </td> <td> 14 </td> <td> 2 </td> <td> 8 </td>  <td> <b> 6 </b> </td> <tr><td> <pre> i=4 j=7 </pre> </td><td bgcolor = \"red\">  1  </span> </td><td bgcolor = \"red\">  5  </span> </td><td bgcolor = \"red\">  6  </span> </td><td bgcolor = \"red\">  1  </span> </td><td bgcolor = \"red\">  3  </span> </td><td bgcolor=\"blue\"> 12 </span> </td><td bgcolor=\"blue\"> 13 </span> </td> <td> 6 </td> <td> 7 </td> <td> 8 </td> <td> 12 </td> <td> 11 </td> <td> 14 </td> <td> 2 </td> <td> 8 </td>  <td> <b> 6 </b> </td> <tr><td> <pre> i=5 j=8 </pre> </td><td bgcolor = \"red\">  1  </span> </td><td bgcolor = \"red\">  5  </span> </td><td bgcolor = \"red\">  6  </span> </td><td bgcolor = \"red\">  1  </span> </td><td bgcolor = \"red\">  3  </span> </td><td bgcolor = \"red\">  6  </span> </td><td bgcolor=\"blue\"> 13 </span> </td><td bgcolor=\"blue\"> 12 </span> </td> <td> 7 </td> <td> 8 </td> <td> 12 </td> <td> 11 </td> <td> 14 </td> <td> 2 </td> <td> 8 </td>  <td> <b> 6 </b> </td> <tr><td> <pre> i=5 j=9 </pre> </td><td bgcolor = \"red\">  1  </span> </td><td bgcolor = \"red\">  5  </span> </td><td bgcolor = \"red\">  6  </span> </td><td bgcolor = \"red\">  1  </span> </td><td bgcolor = \"red\">  3  </span> </td><td bgcolor = \"red\">  6  </span> </td><td bgcolor=\"blue\"> 13 </span> </td><td bgcolor=\"blue\"> 12 </span> </td><td bgcolor=\"blue\"> 7 </span> </td> <td> 8 </td> <td> 12 </td> <td> 11 </td> <td> 14 </td> <td> 2 </td> <td> 8 </td>  <td> <b> 6 </b> </td> <tr><td> <pre> i=5 j=10 </pre> </td><td bgcolor = \"red\">  1  </span> </td><td bgcolor = \"red\">  5  </span> </td><td bgcolor = \"red\">  6  </span> </td><td bgcolor = \"red\">  1  </span> </td><td bgcolor = \"red\">  3  </span> </td><td bgcolor = \"red\">  6  </span> </td><td bgcolor=\"blue\"> 13 </span> </td><td bgcolor=\"blue\"> 12 </span> </td><td bgcolor=\"blue\"> 7 </span> </td><td bgcolor=\"blue\"> 8 </span> </td> <td> 12 </td> <td> 11 </td> <td> 14 </td> <td> 2 </td> <td> 8 </td>  <td> <b> 6 </b> </td> <tr><td> <pre> i=5 j=11 </pre> </td><td bgcolor = \"red\">  1  </span> </td><td bgcolor = \"red\">  5  </span> </td><td bgcolor = \"red\">  6  </span> </td><td bgcolor = \"red\">  1  </span> </td><td bgcolor = \"red\">  3  </span> </td><td bgcolor = \"red\">  6  </span> </td><td bgcolor=\"blue\"> 13 </span> </td><td bgcolor=\"blue\"> 12 </span> </td><td bgcolor=\"blue\"> 7 </span> </td><td bgcolor=\"blue\"> 8 </span> </td><td bgcolor=\"blue\"> 12 </span> </td> <td> 11 </td> <td> 14 </td> <td> 2 </td> <td> 8 </td>  <td> <b> 6 </b> </td> <tr><td> <pre> i=5 j=12 </pre> </td><td bgcolor = \"red\">  1  </span> </td><td bgcolor = \"red\">  5  </span> </td><td bgcolor = \"red\">  6  </span> </td><td bgcolor = \"red\">  1  </span> </td><td bgcolor = \"red\">  3  </span> </td><td bgcolor = \"red\">  6  </span> </td><td bgcolor=\"blue\"> 13 </span> </td><td bgcolor=\"blue\"> 12 </span> </td><td bgcolor=\"blue\"> 7 </span> </td><td bgcolor=\"blue\"> 8 </span> </td><td bgcolor=\"blue\"> 12 </span> </td><td bgcolor=\"blue\"> 11 </span> </td> <td> 14 </td> <td> 2 </td> <td> 8 </td>  <td> <b> 6 </b> </td> <tr><td> <pre> i=5 j=13 </pre> </td><td bgcolor = \"red\">  1  </span> </td><td bgcolor = \"red\">  5  </span> </td><td bgcolor = \"red\">  6  </span> </td><td bgcolor = \"red\">  1  </span> </td><td bgcolor = \"red\">  3  </span> </td><td bgcolor = \"red\">  6  </span> </td><td bgcolor=\"blue\"> 13 </span> </td><td bgcolor=\"blue\"> 12 </span> </td><td bgcolor=\"blue\"> 7 </span> </td><td bgcolor=\"blue\"> 8 </span> </td><td bgcolor=\"blue\"> 12 </span> </td><td bgcolor=\"blue\"> 11 </span> </td><td bgcolor=\"blue\"> 14 </span> </td> <td> 2 </td> <td> 8 </td>  <td> <b> 6 </b> </td> <tr><td> <pre> i=6 j=14 </pre> </td><td bgcolor = \"red\">  1  </span> </td><td bgcolor = \"red\">  5  </span> </td><td bgcolor = \"red\">  6  </span> </td><td bgcolor = \"red\">  1  </span> </td><td bgcolor = \"red\">  3  </span> </td><td bgcolor = \"red\">  6  </span> </td><td bgcolor = \"red\">  2  </span> </td><td bgcolor=\"blue\"> 12 </span> </td><td bgcolor=\"blue\"> 7 </span> </td><td bgcolor=\"blue\"> 8 </span> </td><td bgcolor=\"blue\"> 12 </span> </td><td bgcolor=\"blue\"> 11 </span> </td><td bgcolor=\"blue\"> 14 </span> </td><td bgcolor=\"blue\"> 13 </span> </td> <td> 8 </td>  <td> <b> 6 </b> </td> <tr><td> <pre> i=6 j=15 </pre> </td><td bgcolor = \"red\">  1  </span> </td><td bgcolor = \"red\">  5  </span> </td><td bgcolor = \"red\">  6  </span> </td><td bgcolor = \"red\">  1  </span> </td><td bgcolor = \"red\">  3  </span> </td><td bgcolor = \"red\">  6  </span> </td><td bgcolor = \"red\">  2  </span> </td><td bgcolor=\"blue\"> 12 </span> </td><td bgcolor=\"blue\"> 7 </span> </td><td bgcolor=\"blue\"> 8 </span> </td><td bgcolor=\"blue\"> 12 </span> </td><td bgcolor=\"blue\"> 11 </span> </td><td bgcolor=\"blue\"> 14 </span> </td><td bgcolor=\"blue\"> 13 </span> </td><td bgcolor=\"blue\"> 8 </span> </td>  <td> <b> 6 </b> </td> <tr><td> <pre> i=6 j=15 </pre> </td><td bgcolor = \"red\">  1  </span> </td><td bgcolor = \"red\">  5  </span> </td><td bgcolor = \"red\">  6  </span> </td><td bgcolor = \"red\">  1  </span> </td><td bgcolor = \"red\">  3  </span> </td><td bgcolor = \"red\">  6  </span> </td><td bgcolor = \"red\">  2  </span> </td><td> <b> 6 </b>  </td><td bgcolor=\"blue\"> 7 </span> </td><td bgcolor=\"blue\"> 8 </span> </td><td bgcolor=\"blue\"> 12 </span> </td><td bgcolor=\"blue\"> 11 </span> </td><td bgcolor=\"blue\"> 14 </span> </td><td bgcolor=\"blue\"> 13 </span> </td><td bgcolor=\"blue\"> 8 </span> </td><td bgcolor=\"blue\"> 12 </span> </td></tbody></table>"
      ],
      "text/plain": [
       "<IPython.core.display.HTML object>"
      ]
     },
     "metadata": {},
     "output_type": "display_data"
    },
    {
     "name": "stdout",
     "output_type": "stream",
     "text": [
      "Output:  [1, 5, 6, 1, 3, 6, 2, 6, 7, 8, 12, 11, 14, 13, 8, 12]\n",
      "The pivot is: 6\n",
      "-> Partition is correct (trumpets please)\n"
     ]
    },
    {
     "data": {
      "text/plain": [
       "True"
      ]
     },
     "execution_count": 148,
     "metadata": {},
     "output_type": "execute_result"
    }
   ],
   "source": [
    "a = [12, 1, 13, 5, 6, 1, 3, 6, 7, 8, 12, 11, 14, 2, 8, 6 ]\n",
    "print('Input:', a)\n",
    "k = lomutoPartition(a,True)\n",
    "print('Output: ',a)\n",
    "isPartitioned(a,k)"
   ]
  },
  {
   "cell_type": "code",
   "execution_count": 149,
   "metadata": {
    "collapsed": false
   },
   "outputs": [
    {
     "name": "stdout",
     "output_type": "stream",
     "text": [
      "Input: [12, 1, 5, 7, 15, 5]\n"
     ]
    },
    {
     "data": {
      "text/html": [
       "<tr><td> <pre> Indices --> </pre> </td> <td bgcolor=\"#AA99BB\"> 0 </td><td bgcolor=\"#AA99BB\"> 1 </td><td bgcolor=\"#AA99BB\"> 2 </td><td bgcolor=\"#AA99BB\"> 3 </td><td bgcolor=\"#AA99BB\"> 4 </td><td bgcolor=\"#AA99BB\"> 5 </td></tr><tr><td> <pre> i=-1 j=0 </pre> </td> <td> 12 </td> <td> 1 </td> <td> 5 </td> <td> 7 </td> <td> 15 </td>  <td> <b> 5 </b> </td> <tr><td> <pre> i=-1 j=1 </pre> </td><td bgcolor=\"blue\"> 12 </span> </td> <td> 1 </td> <td> 5 </td> <td> 7 </td> <td> 15 </td>  <td> <b> 5 </b> </td> <tr><td> <pre> i=0 j=2 </pre> </td><td bgcolor = \"red\">  1  </span> </td><td bgcolor=\"blue\"> 12 </span> </td> <td> 5 </td> <td> 7 </td> <td> 15 </td>  <td> <b> 5 </b> </td> <tr><td> <pre> i=1 j=3 </pre> </td><td bgcolor = \"red\">  1  </span> </td><td bgcolor = \"red\">  5  </span> </td><td bgcolor=\"blue\"> 12 </span> </td> <td> 7 </td> <td> 15 </td>  <td> <b> 5 </b> </td> <tr><td> <pre> i=1 j=4 </pre> </td><td bgcolor = \"red\">  1  </span> </td><td bgcolor = \"red\">  5  </span> </td><td bgcolor=\"blue\"> 12 </span> </td><td bgcolor=\"blue\"> 7 </span> </td> <td> 15 </td>  <td> <b> 5 </b> </td> <tr><td> <pre> i=1 j=5 </pre> </td><td bgcolor = \"red\">  1  </span> </td><td bgcolor = \"red\">  5  </span> </td><td bgcolor=\"blue\"> 12 </span> </td><td bgcolor=\"blue\"> 7 </span> </td><td bgcolor=\"blue\"> 15 </span> </td>  <td> <b> 5 </b> </td> <tr><td> <pre> i=1 j=5 </pre> </td><td bgcolor = \"red\">  1  </span> </td><td bgcolor = \"red\">  5  </span> </td><td> <b> 5 </b>  </td><td bgcolor=\"blue\"> 7 </span> </td><td bgcolor=\"blue\"> 15 </span> </td><td bgcolor=\"blue\"> 12 </span> </td></tbody></table>"
      ],
      "text/plain": [
       "<IPython.core.display.HTML object>"
      ]
     },
     "metadata": {},
     "output_type": "display_data"
    },
    {
     "name": "stdout",
     "output_type": "stream",
     "text": [
      "Output:  [1, 5, 5, 7, 15, 12]\n",
      "The pivot is: 5\n",
      "-> Partition is correct (trumpets please)\n"
     ]
    },
    {
     "data": {
      "text/plain": [
       "True"
      ]
     },
     "execution_count": 149,
     "metadata": {},
     "output_type": "execute_result"
    }
   ],
   "source": [
    "a=[12,1,5,7,15,5]\n",
    "print('Input:', a)\n",
    "k = lomutoPartition(a,True)\n",
    "print('Output: ',a)\n",
    "isPartitioned(a,k)"
   ]
  },
  {
   "cell_type": "code",
   "execution_count": 184,
   "metadata": {
    "collapsed": false
   },
   "outputs": [
    {
     "name": "stdout",
     "output_type": "stream",
     "text": [
      "Randomly testing on 50000 arrays of size 50 ... Done\n"
     ]
    }
   ],
   "source": [
    "import random\n",
    "\n",
    "def randomlyTestLomutoScheme(size, nTrials):\n",
    "    a = []\n",
    "    for i in range(0,size):\n",
    "        a.append(random.randint(0,size))\n",
    "    # create a random array a\n",
    "    for i in range(0, nTrials):\n",
    "        random.shuffle(a)\n",
    "        k = lomutoPartition(a)\n",
    "        assert(isPartitioned(a,k,False))\n",
    "\n",
    "size = 50\n",
    "nTrials = 50000\n",
    "print('Randomly testing on %d arrays of size %d ... '%(nTrials, size), end='')\n",
    "randomlyTestLomutoScheme(size, nTrials)\n",
    "print('Done')"
   ]
  },
  {
   "cell_type": "markdown",
   "metadata": {},
   "source": [
    "## Enhancements\n",
    "\n",
    "The main enhancement is to use a `for` loop instead of a `while` loop. Also, rather than partition the whole array from `0` to `n`, we partition from `left` to `right`."
   ]
  },
  {
   "cell_type": "code",
   "execution_count": 158,
   "metadata": {
    "collapsed": true
   },
   "outputs": [],
   "source": [
    "def lomuto_partition(a, left, right):\n",
    "    ''' Lomuto partition of array a from indices left to right-1. \n",
    "        Following Python convention, the left index is inclusive\n",
    "        but right is not.'''\n",
    "    n = len(a)\n",
    "    assert( 0 <= left and left < right and right <= n )\n",
    "    i = left - 1\n",
    "    x = a[right -1]\n",
    "    for j in range(left, right-1):\n",
    "        if (a[j] <= x):\n",
    "            swap(a, i + 1, j)\n",
    "            i += 1\n",
    "        # else nothing to do\n",
    "    swap(a, i + 1, right -1 )\n",
    "    return i + 1"
   ]
  },
  {
   "cell_type": "code",
   "execution_count": 155,
   "metadata": {
    "collapsed": false
   },
   "outputs": [
    {
     "name": "stdout",
     "output_type": "stream",
     "text": [
      "Input: [12, 1, 5, 7, 15, 5]\n",
      "Output:  [1, 5, 5, 7, 15, 12] 2\n",
      "The pivot is: 5\n",
      "-> Partition is correct (trumpets please)\n"
     ]
    },
    {
     "data": {
      "text/plain": [
       "True"
      ]
     },
     "execution_count": 155,
     "metadata": {},
     "output_type": "execute_result"
    }
   ],
   "source": [
    "a=[12,1,5,7,15,5]\n",
    "print('Input:', a)\n",
    "k = lomuto_partition(a, 0, len(a))\n",
    "print('Output: ',a, k)\n",
    "isPartitioned(a,k)"
   ]
  },
  {
   "cell_type": "markdown",
   "metadata": {},
   "source": [
    "# Hoare Partitioning Scheme\n",
    "\n",
    "In this partitioning scheme, we operate differently.  Once again, let `x` be the pivot element, chosen to be\n",
    "`a[n-1]` for array a of length `n`. \n",
    "There are two regions, \n",
    "- __Region A__ that contains elements which are `<= x` and \n",
    "- __Region B__ that contains elements `>= x`.\n",
    "\n",
    "We maintain two indices `i` and `j`.\n",
    "\n",
    "- **Region A**: defined as all indices in the range `[0, i]` (both ends inclusive as shown by the square brackets).\n",
    "  All array elements in this region are guaranteed to be ` <= x `\n",
    "  \n",
    "- **Region B**: defined as all indices in the range `[j, n-1]` (both ends inclusive as shown by the square brackets). All array elements in this region are guaranteed to be ` >= x`. Note that the pivot element itself belongs to this region.\n",
    "\n",
    "The array then looks like this:\n",
    "\n",
    "<table><tbody>\n",
    "<tr><td> 0 <td> 1 <td> ... <td bgcolor=\"yellow\"> <b> i </b>  <td> ... <td bgcolor=\"yellow\"> <b> j </b> <td> ... <td> n-1 </tr>\n",
    "<tr><td bgcolor=\"#CCCCFF\"> a[0] <td bgcolor=\"#CCCCFF\"> a[1] <td bgcolor=\"#CCCCFF\"> ... <td bgcolor=\"#CCCCFF\"> a[i] <td> ... <td bgcolor=\"#FFCCCC\"> a[j] <td bgcolor=\"#FFCCCC\"> ... <td bgcolor=\"red\"> <b> x </b> </tr>\n",
    "<tr><td colspan=\"4\" bgcolor=\"#CCCCFF\"> <pre> &lt;= x </pre> <td> <pre> to be processed </pre> <td bgcolor=\"#FFCCCC\" colspan=\"3\"> <pre> &gt;= x </pre> </td> \n",
    "</tbody></table>\n",
    "\n",
    "## Simplified Version - 1\n",
    "\n",
    "Initially, we will start by setting `i=-1` and `j = n-1`, reflecting that region A is empty to start off, whereas region B is not. Each iteration tries to shrink the middle `to be processed` elements as follows:\n",
    "\n",
    "- If `a[i+1] < x` then `a[i+1]` can clearly belong to the region A. Therefore, `i` can be incremented.\n",
    "- If `a[j-1] > x` then `a[j-1]` can clearly belong to the region B. Therefore, `j` can be decremented.\n",
    "- If neither condition holds and `i+1 <= j-1` (i.e, the to be processed region is non-empty) then \n",
    "    * Clearly `a[i+1] >= x` and `a[j-1] <= x`. \n",
    "    * Thus, we can swap `a[i+1]` and `a[j-1]`.\n",
    "\n",
    "The iteration continues while `i+1 <= j-1` or there is at least one element remaining in the to be processed region.\n",
    "When it finishes, the pivot should be swapped with position `j`.\n"
   ]
  },
  {
   "cell_type": "code",
   "execution_count": 187,
   "metadata": {
    "collapsed": true
   },
   "outputs": [],
   "source": [
    "def hoare_partition_simple(a):\n",
    "    n = len(a)\n",
    "    i = -1\n",
    "    j = n - 1\n",
    "    x = a[j]\n",
    "    while (i + 1 <=  j -1): # the to be processed area is not empty\n",
    "        assert( 0 <= i + 1 and i +1 <= j -1 and j <= n-1 )\n",
    "        if (a[i + 1] < x): \n",
    "            i = i + 1\n",
    "        elif (a[j - 1] > x):\n",
    "            j = j - 1\n",
    "        else: # we already know that i+1 <= j-1, so now sweat in swapping them\n",
    "            swap(a, i + 1, j - 1)\n",
    "            i += 1\n",
    "            j -= 1\n",
    "            \n",
    "    assert i <= j     # this always holds when we exit the main loop    \n",
    "    swap(a, j, n - 1) # Put the pivot in the \"right place\"\n",
    "    return j          # return that."
   ]
  },
  {
   "cell_type": "code",
   "execution_count": 189,
   "metadata": {
    "collapsed": false
   },
   "outputs": [
    {
     "name": "stdout",
     "output_type": "stream",
     "text": [
      "Input: [4, 3, 12, 1, 5, 7, 15, 5]\n",
      "Output:  [4, 3, 5, 1, 5, 7, 15, 12] 4\n",
      "Input: [3, 3, 3, 3, 3, 3, 3, 3, 3, 3]\n",
      "Output:  [3, 3, 3, 3, 3, 3, 3, 3, 3, 3] 4\n",
      "Input: [4, 5, 6, 7, 8, 9, 10]\n",
      "Output: [4, 5, 6, 7, 8, 9, 10] 6\n"
     ]
    }
   ],
   "source": [
    "a=[4,3,12,1,5,7,15,5]\n",
    "print('Input:', a)\n",
    "k = hoare_partition_simple(a)\n",
    "print('Output: ',a,k)\n",
    "\n",
    "b =[3,3,3,3,3,3,3,3,3,3]\n",
    "print('Input:', b)\n",
    "k = hoare_partition_simple(b)\n",
    "print('Output: ',b,k)\n",
    "\n",
    "c = [4,5,6,7,8,9,10]\n",
    "print('Input:',c)\n",
    "k = hoare_partition_simple(c)\n",
    "print('Output:', c,k)\n"
   ]
  },
  {
   "cell_type": "code",
   "execution_count": 205,
   "metadata": {
    "collapsed": false
   },
   "outputs": [
    {
     "name": "stdout",
     "output_type": "stream",
     "text": [
      "Randomly testing on 10000 arrays of size 40 ... Done\n"
     ]
    }
   ],
   "source": [
    "\n",
    "def randomlyTestHoareScheme(size, nTrials):\n",
    "    a = []\n",
    "    for i in range(0,size):\n",
    "        a.append(random.randint(0,size/2))\n",
    "    # create a random array a\n",
    "    for i in range(0, nTrials):\n",
    "        random.shuffle(a)\n",
    "        k = hoare_partition_simple(a)\n",
    "        assert(isPartitioned(a,k,False))\n",
    "\n",
    "size = 40\n",
    "nTrials = 10000\n",
    "print('Randomly testing on %d arrays of size %d ... '%(nTrials, size), end='')\n",
    "randomlyTestHoareScheme(size, nTrials)\n",
    "print('Done')"
   ]
  },
  {
   "cell_type": "code",
   "execution_count": null,
   "metadata": {
    "collapsed": true
   },
   "outputs": [],
   "source": []
  }
 ],
 "metadata": {
  "kernelspec": {
   "display_name": "Python 3",
   "language": "python",
   "name": "python3"
  },
  "language_info": {
   "codemirror_mode": {
    "name": "ipython",
    "version": 3
   },
   "file_extension": ".py",
   "mimetype": "text/x-python",
   "name": "python",
   "nbconvert_exporter": "python",
   "pygments_lexer": "ipython3",
   "version": "3.5.2"
  }
 },
 "nbformat": 4,
 "nbformat_minor": 0
}
