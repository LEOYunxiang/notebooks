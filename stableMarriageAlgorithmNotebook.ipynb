{
 "cells": [
  {
   "cell_type": "markdown",
   "metadata": {},
   "source": [
    "Stable Marriage Problem\n",
    "========================\n",
    "\n",
    "Sriram Sankaranarayanan (srirams@colorado.edu)\n",
    "-----------------------------------------------\n",
    "\n",
    "\n",
    "Consider a set of $n > 0$ men and women who are interested in dating each other. Let us call the men $M_1, \\ldots, M_n$ and the women $W_1, \\ldots, W_n$. Each man expresses his preferences by ranking all the women from $1$ (most preferred date) to $n$ (least preferred date). Likewise, each woman ranks all the men from $1$ (her most preferred date) to $n$ (her least preferred date).\n",
    "\n",
    "__Example (Preference Matrices)__\n",
    "\n",
    "Consider three men $M_1, M_2, M_3$ and 3 woman $W_1, W_2, W_3$. The preference ordering for each man can be arranged in a matrix like thus:\n",
    "\n",
    "|  \t| $W_1$ \t| $W_2$ \t| $W_3$ \t|\n",
    "|-------\t|-------\t|-------\t|-------\t|\n",
    "| $M_1$ \t| 1 \t| 3 \t| 2 \t|\n",
    "| $M_2$ \t| 3 \t| 1 \t| 2 \t|\n",
    "| $M_3$ \t| 1 \t| 2 \t| 3 \t|\n",
    "\n",
    "The table above represents the rank ordering of preferences for each man. For instance, $M_1$ prefers $W_1$ the most, $W_3$ next and $W_2$ the least. \n",
    "\n",
    "Likewise, there is another table that represents the preferences of each woman. Here is an example matrix:\n",
    "\n",
    "\n",
    "|  \t| $M_1$ \t| $M_2$ \t| $M_3$ \t|\n",
    "|-------\t|-------\t|-------\t|-------\t|\n",
    "| $W_1$ \t| 3 \t| 1 \t| 2 \t|\n",
    "| $W_2$ \t| 3 \t| 1 \t| 2 \t|\n",
    "| $W_3$ \t| 3 \t| 2 \t| 1 \t|\n",
    "\n",
    "Note that now, women correspond to the rows of this table and men to the columns.\n",
    "\n",
    "\n",
    "\n",
    "__Definition (Matching)__\n",
    "\n",
    "A matching $F$ is a one-to-one correspondence from men $\\{ M_1, \\ldots, M_n \\}$ to women $\\{W_1, \\ldots, W_n\\}$ is an assignment of each man $M_j$ to a woman $F(M_j)$, such that \n",
    "\n",
    "- Each man $M_j$ is assigned to a unique woman $W_k:\\ F(M_j)$.\n",
    "- Each woman $W_k$ is assigned to a unique man $M_j:\\ F^{-1}(W_k)$.\n",
    "\n",
    "\n",
    "*Note:* Recall from CSCI 2824, what a one-to-one correspondence between two sets is. \n",
    "\n",
    "> In the rather *playful* language of this problem, the term \"Marriage\" is used synonymously with the mathematical concept of a\n",
    "> \"Matching\". Finally, we note that it is equally fine to define a matching $F$ as an assignment from women to men. Because $F$ is a\n",
    "> one-to-one correspondence,  $F^{-1}$ exists and is a one-to-one correspondence as well.\n",
    "\n",
    "\n",
    "__Example (Matching)__\n",
    "\n",
    "Going back to the example of $3$ men and women, consider the following matching:\n",
    "\n",
    "- $M_1$ is assigned $W_3$\n",
    "- $M_2$ is assigned $W_1$\n",
    "- $M_3$ is assigned $W_2$.\n",
    "\n",
    "We can verify that this is indeed a one-to-one correspondence between the men and women. I will leave it as an exercise to provide a example of something that is not a matching.\n",
    "\n",
    "\n",
    "Beyond Dating!!\n",
    "---------------\n",
    "\n",
    "Contrary to what one imagines, the stable marriage problem is **not** about dating at all. It is in-fact a common theme in many situations:\n",
    "\n",
    "- Consider a situtation where there are $n$ programming job vacancies and $n$ candidates. Each vacancy may belong to a different company and call for different skills/responsibilities. The candidates have a ranked preferences for the vacancies, and likewise, the employers for each vacancy may have a ranked preference of candidates.\n",
    "- Every year, US medical students completing their degrees are matched to residency positions across the country for specialized medical training. \n",
    "\n",
    "Inefficiecies\n",
    "--------------\n",
    "\n",
    "The standard approach to solving these assignment problem is often rather simple: every company with a job vacancy simply chooses its top candidate. This is a really bad since it leads to two issues:\n",
    "\n",
    "- Since every person can only have one job, there are unfilled positions or jobs without people.\n",
    "- Since the same person is often desirable for multiple jobs, there are people without job. \n",
    "\n",
    "Often this is resolved by multiple interview rounds, and multiple rounds of offers. \n",
    "\n",
    "*Therefore a matching is desirable*. It ensures that every man (or candidate, doctor in training) is mapped to a unique woman (or job, residency).\n",
    "\n",
    "Still, even if a matching is achieved, there remains the big problem of *instability*.\n",
    "\n",
    "Instability\n",
    "------------\n",
    "\n",
    "Instability is a common problem in these assignment problems. Imagine the following situation:\n",
    "\n",
    "- John is supposed to go on a date with Jane, and Mike on a date with Martha.  \n",
    "- However, John prefers Martha to Jane, and likewise, Martha prefers John to Mike. \n",
    "- In a completely rational (a.k.a. cold-hearted?) world, John and Martha will abandon their respective partners and go on a date with each other. As a result, Jane and Mike are left without dates.\n",
    "\n",
    "This sort of a situation is called an *instability*. Consider the following examples:\n",
    "\n",
    "- Marital instability as sometimes portrayed in certain movies/novels (eg., *Something Borrowed*? )\n",
    "- Jane currently holds a job with XYZ corporation. However, Jane really wants to  work for ABC corp. Also, ABC corporation prefers Jane to its current employee. Therefore, Jane leaves XYZ for ABC; and ABC fires its current employee to hire Jane. This causes some undesirable *churn*: people are fired, leave jobs, and jobs stay vacant. \n",
    "\n",
    "__Example (Instability)__\n",
    "Going back to our running example, it is clear that there is an *instability*. Consider $M_2$ and $W_2$.\n",
    "\n",
    "- $M_2$ prefers $W_2$ to his current assigned partner $W_1$.\n",
    "- $W_2$ prefers $M_2$ to her current assigned partner $M_3$.\n",
    "\n",
    "This is exactly the same situation as the ones described above.\n",
    "\n",
    "\n",
    "\n",
    "Therefore, we can define the desirable property of __stability__ for a matching.\n",
    "\n",
    "\n",
    "__Definition (Stable Matching)__\n",
    "\n",
    "A matching $F$ between the men and women, is said to be *stable* if  there is no pair $(M_i, W_j)$ where \n",
    "\n",
    "- $M_i$ is not assigned to $W_j$: $F(M_i) \\not= W_j$.\n",
    "- $M_i$ prefers $W_j$ to $F(M_i)$ (his current assigned partner).\n",
    "- $W_j$ prefers $M_i$ to $F^{-1}(W_j)$ (her current assigned partner).\n",
    "\n",
    "\n",
    "__Example (Stable Matching)__\n",
    "Now consider the following matching for the running example:\n",
    "\n",
    "- $M_1$ is matched to $W_3$,\n",
    "- $M_2$ is matched to $W_2$,\n",
    "- $M_3$ is matched to $W_1$.\n",
    "\n",
    "*Can you verify that it is stable? If yes, how?*\n"
   ]
  },
  {
   "cell_type": "markdown",
   "metadata": {},
   "source": [
    "Entering Problem Data\n",
    "======================"
   ]
  },
  {
   "cell_type": "code",
   "execution_count": 2,
   "metadata": {},
   "outputs": [],
   "source": [
    "# Utility to display a table in HTML for pretty printing below.\n",
    "def displayTable(rowHdr,colHdr,data,title):\n",
    "    nRows = len(rowHdr)\n",
    "    nCols = len(colHdr)\n",
    "    hdrStr= '<span> %s </span> <br> <table><tbody> \\n <tr><td></td>'%(title)\n",
    "    str=hdrStr\n",
    "    for colName in colHdr:\n",
    "        str += '<td bgcolor=\\\"gray\\\" width=\\\"40px\\\" align=\\\"center\\\"> '+colName+' </td>'\n",
    "    str += ' </tr>\\n'\n",
    "    \n",
    "    for (j,rowName) in enumerate(rowHdr):\n",
    "        str=str+'<tr> <td bgcolor=\\\"gray\\\" width=\"5px\">'+rowName+' </td>'\n",
    "        rowData = ['<td> %d </td>' %x for x in data[j] ]\n",
    "        rowStr = ' '.join(rowData)\n",
    "        str += rowStr\n",
    "        str += '</tr>'\n",
    "    str+= '</tbody></table>'\n",
    "    return str\n"
   ]
  },
  {
   "cell_type": "code",
   "execution_count": 3,
   "metadata": {},
   "outputs": [
    {
     "data": {
      "text/html": [
       "<span> Preference Data For Men </span> <br> <table><tbody> \n",
       " <tr><td></td><td bgcolor=\"gray\" width=\"40px\" align=\"center\"> Alicia </td><td bgcolor=\"gray\" width=\"40px\" align=\"center\"> Bella </td><td bgcolor=\"gray\" width=\"40px\" align=\"center\"> Clara </td><td bgcolor=\"gray\" width=\"40px\" align=\"center\"> Diana </td> </tr>\n",
       "<tr> <td bgcolor=\"gray\" width=\"5px\">Alan </td><td> 1 </td> <td> 3 </td> <td> 2 </td> <td> 4 </td></tr><tr> <td bgcolor=\"gray\" width=\"5px\">Bob </td><td> 1 </td> <td> 2 </td> <td> 3 </td> <td> 4 </td></tr><tr> <td bgcolor=\"gray\" width=\"5px\">Charlie </td><td> 1 </td> <td> 3 </td> <td> 2 </td> <td> 4 </td></tr><tr> <td bgcolor=\"gray\" width=\"5px\">Dylan </td><td> 1 </td> <td> 3 </td> <td> 2 </td> <td> 4 </td></tr></tbody></table>&nbsp;&nbsp;<span> Preference Data For Women </span> <br> <table><tbody> \n",
       " <tr><td></td><td bgcolor=\"gray\" width=\"40px\" align=\"center\"> Alan </td><td bgcolor=\"gray\" width=\"40px\" align=\"center\"> Bob </td><td bgcolor=\"gray\" width=\"40px\" align=\"center\"> Charlie </td><td bgcolor=\"gray\" width=\"40px\" align=\"center\"> Dylan </td> </tr>\n",
       "<tr> <td bgcolor=\"gray\" width=\"5px\">Alicia </td><td> 4 </td> <td> 2 </td> <td> 1 </td> <td> 3 </td></tr><tr> <td bgcolor=\"gray\" width=\"5px\">Bella </td><td> 3 </td> <td> 1 </td> <td> 2 </td> <td> 4 </td></tr><tr> <td bgcolor=\"gray\" width=\"5px\">Clara </td><td> 1 </td> <td> 3 </td> <td> 2 </td> <td> 4 </td></tr><tr> <td bgcolor=\"gray\" width=\"5px\">Diana </td><td> 1 </td> <td> 4 </td> <td> 2 </td> <td> 3 </td></tr></tbody></table>"
      ],
      "text/plain": [
       "<IPython.core.display.HTML at 0x106adf690>"
      ]
     },
     "execution_count": 3,
     "metadata": {},
     "output_type": "execute_result"
    }
   ],
   "source": [
    "# This python code snippet will define the problem data for the stable marriage problem.\n",
    "from IPython.display import HTML\n",
    "\n",
    "# Enter the names for the men\n",
    "# We will simply use Alan, Bob, Charlie and Dylan\n",
    "manNames=['Alan','Bob','Charlie','Dylan']\n",
    "# Enter the names for the women\n",
    "# We will enter the names Alicia, Bella, Clara and Diana.\n",
    "womanNames=[\"Alicia\",\"Bella\",\"Clara\",\"Diana\"]\n",
    "\n",
    "# This is the matrix for the preference for men\n",
    "manPrefData = [ [ 1,3, 2, 4], [ 1, 2, 3, 4], [1, 3, 2, 4], [1, 3, 2, 4] ]\n",
    "# This is the matrix for women's preference\n",
    "womanPrefData= [ [ 4, 2, 1, 3], [3, 1, 2, 4], [1, 3, 2, 4], [1, 4, 2, 3] ] \n",
    "\n",
    "# Let us display these here as HTML tables, for your convenience\n",
    "html1=displayTable(manNames,womanNames,manPrefData,'Preference Data For Men')\n",
    "html2=displayTable(womanNames, manNames, womanPrefData,'Preference Data For Women')\n",
    "HTML(html1+'&nbsp;&nbsp;'+html2)"
   ]
  },
  {
   "cell_type": "markdown",
   "metadata": {},
   "source": [
    "Deferred Acceptance Algorithm\n",
    "==============================\n",
    "\n",
    "We will now present the deferred acceptance algorithm of *Gale and Shapley* that will find a stable matching given the preference matrices for the men and the women. This algorithm is truly surprising:\n",
    "\n",
    "- It finds a stable matching for any *given any pattern of preferences for men/women*. \n",
    "- It is quite efficient: as we will see, its running time is $O(n^2)$ for $n$ men/women.\n",
    "\n",
    "Algorithm\n",
    "-----------\n",
    "\n",
    "The overall algorithm consists of many *rounds*. At the beginning of each round, we have a *partial matching* of some men to women. Also each mach maintains an ordered list of women that he has yet to propose to.\n",
    "\n",
    "Initially, at the start:\n",
    "\n",
    "- All men and women are unmatched. \n",
    "- The list for each man has all the women ordered according to the preference.\n",
    "\n",
    "Each round then proceeds to update the matching and the preference list for each man as follows:\n",
    "\n",
    "1. Each __unmatched__ man proposes to the first woman in his list, removing that woman from that list. A man that is currently matched does nothing during a round.\n",
    "2. After all the men have proposed, each woman collects at all the proposals she has received so far, including the man she is currently matched to. She selects her most preferred man from this set as her current matching.\n",
    "\n",
    "*Note:* It is possible for a woman to match with a man during round $i$ and abandon her current partner if a proposal from a more preferred partner comes along. This is why we call this a __deferred acceptance__ algorithm.\n",
    "\n",
    "\n",
    "__Termination__ The process terminates as soon as all the men are matched (and therefore all women have matched as well), or every man's list of women to propose to is empty."
   ]
  },
  {
   "cell_type": "markdown",
   "metadata": {},
   "source": [
    "Python Program for Deferred Acceptance\n",
    "=======================================\n",
    "\n",
    "We will now program a python program that will run the stable marriage algorithm on a given set of preference data for men/women.\n",
    "\n",
    "Program Structure\n",
    "------------------\n",
    "\n",
    "The program is written as a python class called StableMarriageData. The class contains the data structures needed to implement the deferred acceptance algorithm. The essential data  include:\n",
    "\n",
    "- The number of men/women and their preference matrices.\n",
    "- A dictionary mapping each man $j$ to the highest preference number of the woman that he has *not* proposed to, as yet. For instance, if man $5$ is mapped in this list to $2$, it means that he has proposed to his first preference woman but not to any woman rated by him as second or lower preference.\n",
    "- The partial matching so far is stored through two dictionaries: one mapping each man (id) to his matched woman and other reverse mapping from women to men.\n",
    "\n",
    "\n",
    "\n",
    "\n"
   ]
  },
  {
   "cell_type": "code",
   "execution_count": 113,
   "metadata": {},
   "outputs": [],
   "source": [
    "from IPython.display import HTML,display\n",
    "class StableMarriageData(object):\n",
    "    __slots__ = ['manNames','womanNames','menPrefMatrix','womenPrefMatrix',\n",
    "                 'n','curRnd','curMatchingMen','curMatchingWomen','men2ProposalList']\n",
    "\n",
    "    def setupMenProposalList(self):\n",
    "        #self.men2ProposalList will store for each man id i, the current best preference that he has NOT yet proposed to.\n",
    "        self.men2ProposalList={}\n",
    "        for i in range(0,self.n):\n",
    "            self.men2ProposalList[i]=1 # Initialize each man's current best preference to 1 or his first preference.\n",
    "            \n",
    "    def __init__ (self,mNames,wNames,mPrefData,wPrefData):\n",
    "        # Names for pretty printing\n",
    "        self.manNames=mNames \n",
    "        self.womanNames=wNames\n",
    "        self.menPrefMatrix=mPrefData # Preference matrix for men\n",
    "        self.womenPrefMatrix=wPrefData  # Preference matrix for women\n",
    "        # Store all the necessary data to carry out the stable marriage algorithm\n",
    "        self.n=len(mNames) # The number of participants will be initialized by the constructor\n",
    "        assert(len(wNames) == self.n)\n",
    "        assert(len(mPrefData) == self.n)\n",
    "        assert(len(wPrefData) == self.n)\n",
    "        self.curRnd=0 # The current round ID\n",
    "        # Store the current matching and its inverse through a pair of dictionaries\n",
    "        self.curMatchingMen={} # Current matching for men\n",
    "        self.curMatchingWomen={} # For women -- This is redundant data but makes for faster code.\n",
    "        self.setupMenProposalList()\n",
    "        \n",
    "    def getManName(self,mID):\n",
    "        assert(mID >= 0)\n",
    "        assert(mID < self.n)\n",
    "        return self.manNames[mID]\n",
    " \n",
    "    def getWomanName(self,wID):\n",
    "        assert(wID >= 0)\n",
    "        assert(wID < self.n)\n",
    "        return self.womanNames[wID]\n",
    "    \n",
    "    def printCurrentMatching(self):\n",
    "        htmlLines=[]\n",
    "        htmlLines.append('<p><h3> (Partial) Matching: </h3>')\n",
    "        htmlLines.append('<p><table border=\\\"1px solid black\\\"><tbody><tr> \\\n",
    "                          <td bgcolor=\\\"gray\\\"> Man </td> <td bgcolor=\\\"gray\\\"> Woman </td></tr>\\n')\n",
    "        \n",
    "        for mid in self.curMatchingMen:\n",
    "            wid=self.curMatchingMen[mid]\n",
    "            htmlLines.append('<tr><td> %s </td><td> %s</td></tr>\\n'%(self.getManName(mid),self.getWomanName(wid)))\n",
    "        \n",
    "        unMatchedMen=[self.getManName(i) for i in range(0,self.n) if (i not in self.curMatchingMen)]\n",
    "        unMatchedWomen=[self.getWomanName(i) for i in range(0,self.n) if (i not in self.curMatchingWomen)]\n",
    "        htmlLines.append('</tbody></table>\\n')\n",
    "        if (len(unMatchedMen) > 0):\n",
    "            htmlLines.append('<p><b> Unmatched MEN:</b> \\n <ul>')\n",
    "            htmlLines = htmlLines + [('<li>'+str+'\\n') for str in unMatchedMen]\n",
    "            htmlLines.append('</ul>')\n",
    "            htmlLines.append('<p><b> Unmatched WOMEN:</b>\\n<ul>')\n",
    "            htmlLines = htmlLines + [('<li>'+str+'\\n') for str in unMatchedWomen]\n",
    "            htmlLines.append('</ul>\\n')\n",
    "        htmlStr='\\n'.join(htmlLines)\n",
    "        display(HTML(htmlStr))\n",
    "        \n",
    "    def updateMatch(self,manID, womanID):\n",
    "        # Update the current matching by adding manID <==> womanID matching\n",
    "        assert(manID >= 0 and manID < self.n)\n",
    "        assert(womanID >= 0 and womanID < self.n)\n",
    "        # Make sure that if there are any current mappings for manID and womanID, they are cleared.\n",
    "        if (womanID in self.curMatchingWomen):\n",
    "            cMatchedMan=self.curMatchingWomen[womanID]\n",
    "            try:\n",
    "                del self.curMatchingMen[cMatchedMan]\n",
    "            except KeyError:\n",
    "                assert(False)\n",
    "        if (manID in self.curMatchingMen):\n",
    "            cMatchedWoman=self.curMatchingMen[manID]\n",
    "            try:\n",
    "                del self.curMatchingWomen[cMatchedWoman]\n",
    "            except KeyError:\n",
    "                assert(False)\n",
    "    \n",
    "        self.curMatchingMen[manID]=womanID\n",
    "        self.curMatchingWomen[womanID] = manID\n",
    "        # print('\\t\\t MATCH: %s <====> %s \\n'%(self.getManName(manID), self.getWomanName(womanID)))\n",
    "        # done\n",
    "        \n",
    "        \n",
    "    def findWomanPreference(self,manID, pref):\n",
    "        assert(manID >= 0 and manID < self.n)\n",
    "        assert(pref >= 0 and pref <= self.n)\n",
    "        # TODO: A better data structuring can achieve this in O(1) rather than O(n)\n",
    "        #       Let us do this for the time being and focus on efficient indexing later.\n",
    "        lst = self.menPrefMatrix[manID]\n",
    "        try:\n",
    "            wid = lst.index(pref)\n",
    "            return wid\n",
    "        except ValueError:\n",
    "            assert(False) # Should not happen\n",
    "    \n",
    "    # Implement proposal round for each man\n",
    "    def manProposalRound(self):\n",
    "        # manProposalRound: implement the proposal for each man.\n",
    "        #   Returns: a dictionary from each woman ID to the list of proposals she has received.\n",
    "        woman2Proposals = {} # 1. Initialize the dictionary to be returned to empty\n",
    "        # Iterate for each man.\n",
    "        \n",
    "        for manID in range(0,self.n):\n",
    "            # 2. Check of manID is currently unassigned\n",
    "            #    If so, manID will propose to a woman\n",
    "            if (manID not in self.curMatchingMen):\n",
    "                assert( manID in self.men2ProposalList)\n",
    "                curPref = self.men2ProposalList[manID]\n",
    "                # Find the woman that manID should propose to\n",
    "                wID = self.findWomanPreference(manID,curPref)\n",
    "                print('\\t\\t ----> man %s proposes to woman %s \\n'%(self.getManName(manID), self.getWomanName(wID)))\n",
    "                # Add manID to the list for this woman\n",
    "                if (wID in woman2Proposals):\n",
    "                    tmpLst = woman2Proposals[wID]\n",
    "                else: \n",
    "                    tmpLst = []\n",
    "                tmpLst.append(manID)\n",
    "                woman2Proposals[wID] = tmpLst \n",
    "                # Increment the id for manID by 1\n",
    "                self.men2ProposalList[manID] = self.men2ProposalList[manID]+1\n",
    "        return woman2Proposals\n",
    "    \n",
    "    # Implement the deferred acceptance for each woman\n",
    "    def womanDeferredAcceptance(self,woman2Proposals):\n",
    "        # womanDeferredAcceptance: implements deferred acceptance for women\n",
    "        # Iterate through each woman who has received fresh proposals, and find the best proposal for each woman\n",
    "        # Update matching to match each woman now to her best proposal\n",
    "        for pWomen in woman2Proposals:\n",
    "            lst = woman2Proposals[pWomen]\n",
    "            # If the woman is currently matched, then add the man she is currently matched to the list of proposers\n",
    "            if (pWomen in self.curMatchingWomen):\n",
    "                manID = self.curMatchingWomen[pWomen]\n",
    "                lst.append(manID)\n",
    "            # Now select the man with the best preference from this list\n",
    "            prefLst = self.womenPrefMatrix[pWomen]\n",
    "            # subselect the preferences for the men in lst\n",
    "            prefLstSubsel = [prefLst[i] for i in lst]\n",
    "            # Find man with best preference\n",
    "            minPref,minElt = min( zip(prefLst,lst) )\n",
    "            print('\\t\\t ~~~> Woman %s will accept proposal from %s \\n'%(self.getWomanName(pWomen), self.getManName(minElt)))\n",
    "            self.updateMatch(minElt,pWomen)\n",
    "            \n",
    "            \n",
    "    # Implement a round\n",
    "    def round(self):\n",
    "        self.curRnd = self.curRnd +1 \n",
    "        print('Round # %d\\n'%(self.curRnd))\n",
    "        print('-------------\\n')\n",
    "        # 1. Unassigned men propose\n",
    "        print('Proposals by men:\\n')\n",
    "        w2Proposals = self.manProposalRound()\n",
    "        \n",
    "        if (w2Proposals):\n",
    "            #2. We are not done yet, let us process them\n",
    "            print('Deferred Acceptances by women:\\n')\n",
    "            self.womanDeferredAcceptance(w2Proposals)\n",
    "            return False # We may have to keep going\n",
    "        else:\n",
    "            print('\\t No proposals! We are done!\\n')\n",
    "            return True # We are done\n",
    "        \n",
    "    # Implement the whole process.    \n",
    "    def iterateUntilCompletion(self):\n",
    "        while(not self.round()):\n",
    "            self.printCurrentMatching()\n",
    "        # Print the final matching\n",
    "        self.printCurrentMatching()"
   ]
  },
  {
   "cell_type": "markdown",
   "metadata": {},
   "source": [
    "Example # 1\n",
    "==========="
   ]
  },
  {
   "cell_type": "code",
   "execution_count": 114,
   "metadata": {},
   "outputs": [
    {
     "data": {
      "text/html": [
       "<span> Preference Data For Men </span> <br> <table><tbody> \n",
       " <tr><td></td><td bgcolor=\"blue\" width=\"40px\" align=\"center\"> w1 </td><td bgcolor=\"blue\" width=\"40px\" align=\"center\"> w2 </td><td bgcolor=\"blue\" width=\"40px\" align=\"center\"> w3 </td> </tr>\n",
       "<tr> <td bgcolor=\"gray\" width=\"5px\">m1 </td><td> 1 </td> <td> 3 </td> <td> 2 </td></tr><tr> <td bgcolor=\"gray\" width=\"5px\">m2 </td><td> 3 </td> <td> 1 </td> <td> 2 </td></tr><tr> <td bgcolor=\"gray\" width=\"5px\">m3 </td><td> 1 </td> <td> 2 </td> <td> 3 </td></tr></tbody></table>&nbsp;&nbsp;<span> Preference Data For Women </span> <br> <table><tbody> \n",
       " <tr><td></td><td bgcolor=\"blue\" width=\"40px\" align=\"center\"> m1 </td><td bgcolor=\"blue\" width=\"40px\" align=\"center\"> m2 </td><td bgcolor=\"blue\" width=\"40px\" align=\"center\"> m3 </td> </tr>\n",
       "<tr> <td bgcolor=\"gray\" width=\"5px\">w1 </td><td> 3 </td> <td> 1 </td> <td> 2 </td></tr><tr> <td bgcolor=\"gray\" width=\"5px\">w2 </td><td> 3 </td> <td> 1 </td> <td> 2 </td></tr><tr> <td bgcolor=\"gray\" width=\"5px\">w3 </td><td> 3 </td> <td> 2 </td> <td> 1 </td></tr></tbody></table>"
      ],
      "text/plain": [
       "<IPython.core.display.HTML at 0x10694e050>"
      ]
     },
     "metadata": {},
     "output_type": "display_data"
    }
   ],
   "source": [
    "# Enter the names for the men\n",
    "\n",
    "manNames=['m1','m2','m3']\n",
    "# Enter the names for the women\n",
    "\n",
    "womanNames=['w1','w2','w3']\n",
    "\n",
    "# This is the matrix for the preference for men\n",
    "manPrefData = [ [ 1,3, 2], [ 3,1,2], [1,2,3]]\n",
    "# This is the matrix for women's preference\n",
    "womanPrefData= [ [3,1,2],[3,1,2],[3,2,1] ] \n",
    "\n",
    "# Let us display these here as HTML tables, for your convenience\n",
    "html1=displayTable(manNames,womanNames,manPrefData,'Preference Data For Men')\n",
    "html2=displayTable(womanNames, manNames, womanPrefData,'Preference Data For Women')\n",
    "display(HTML(html1+'&nbsp;&nbsp;'+html2))\n",
    "\n",
    "s=StableMarriageData(manNames,womanNames,manPrefData,womanPrefData)"
   ]
  },
  {
   "cell_type": "markdown",
   "metadata": {},
   "source": [
    "Round # 1\n",
    "=========\n",
    "\n",
    "Let us run a single round of proposals for the example above.\n"
   ]
  },
  {
   "cell_type": "code",
   "execution_count": 115,
   "metadata": {},
   "outputs": [
    {
     "name": "stdout",
     "output_type": "stream",
     "text": [
      "Round # 1\n",
      "\n",
      "-------------\n",
      "\n",
      "Proposals by men:\n",
      "\n",
      "\t\t ----> man m1 proposes to woman w1 \n",
      "\n",
      "\t\t ----> man m2 proposes to woman w2 \n",
      "\n",
      "\t\t ----> man m3 proposes to woman w1 \n",
      "\n",
      "Deferred Acceptances by women:\n",
      "\n",
      "\t\t ~~~> Woman w1 will accept proposal from m3 \n",
      "\n",
      "\t\t ~~~> Woman w2 will accept proposal from m2 \n",
      "\n"
     ]
    },
    {
     "data": {
      "text/html": [
       "<p><h3> (Partial) Matching: </h3>\n",
       "<p><table border=\"1px solid black\"><tbody><tr>                           <td bgcolor=\"gray\"> Man </td> <td bgcolor=\"gray\"> Woman </td></tr>\n",
       "\n",
       "<tr><td> m2 </td><td> w2</td></tr>\n",
       "\n",
       "<tr><td> m3 </td><td> w1</td></tr>\n",
       "\n",
       "</tbody></table>\n",
       "\n",
       "<p><b> Unmatched MEN:</b> \n",
       " <ul>\n",
       "<li>m1\n",
       "\n",
       "</ul>\n",
       "<p><b> Unmatched WOMEN:</b>\n",
       "<ul>\n",
       "<li>w3\n",
       "\n",
       "</ul>\n"
      ],
      "text/plain": [
       "<IPython.core.display.HTML at 0x10692efd0>"
      ]
     },
     "metadata": {},
     "output_type": "display_data"
    }
   ],
   "source": [
    "s.round() # RUN a round\n",
    "s.printCurrentMatching() #Display the matching"
   ]
  },
  {
   "cell_type": "markdown",
   "metadata": {},
   "source": [
    "Round # 2\n",
    "=========="
   ]
  },
  {
   "cell_type": "code",
   "execution_count": 116,
   "metadata": {},
   "outputs": [
    {
     "name": "stdout",
     "output_type": "stream",
     "text": [
      "Round # 2\n",
      "\n",
      "-------------\n",
      "\n",
      "Proposals by men:\n",
      "\n",
      "\t\t ----> man m1 proposes to woman w3 \n",
      "\n",
      "Deferred Acceptances by women:\n",
      "\n",
      "\t\t ~~~> Woman w3 will accept proposal from m1 \n",
      "\n"
     ]
    },
    {
     "data": {
      "text/html": [
       "<p><h3> (Partial) Matching: </h3>\n",
       "<p><table border=\"1px solid black\"><tbody><tr>                           <td bgcolor=\"gray\"> Man </td> <td bgcolor=\"gray\"> Woman </td></tr>\n",
       "\n",
       "<tr><td> m1 </td><td> w3</td></tr>\n",
       "\n",
       "<tr><td> m2 </td><td> w2</td></tr>\n",
       "\n",
       "<tr><td> m3 </td><td> w1</td></tr>\n",
       "\n",
       "</tbody></table>\n"
      ],
      "text/plain": [
       "<IPython.core.display.HTML at 0x10692efd0>"
      ]
     },
     "metadata": {},
     "output_type": "display_data"
    }
   ],
   "source": [
    "s.round() # RUN a round\n",
    "s.printCurrentMatching() #Display the matching"
   ]
  },
  {
   "cell_type": "markdown",
   "metadata": {},
   "source": [
    "Note that all men are now matched. There is no more work to be done and we have a stable matching.\n"
   ]
  },
  {
   "cell_type": "markdown",
   "metadata": {},
   "source": [
    "Analysis: Proving Correctness\n",
    "==============================\n",
    "\n",
    "What are the important guarantees we seek?\n",
    "\n",
    "1. The algorithm always terminates.\n",
    "2. When it terminates, it does so with a *stable matching*: i.e, no one is unmatched and the matching is stable.\n",
    "\n",
    "Termination\n",
    "------------\n",
    "\n",
    "We would like to prove that the procedure always terminates. How do we prove this? Recall the termination condition:\n",
    "\n",
    "> The process terminates as soon as all the men are matched (and therefore all women have matched as well), or every man's list of women to propose to is empty.\n",
    "\n",
    "\n",
    "__Theorem__ The deferred acceptance algorithm terminates for all possible inputs.\n",
    "\n",
    "__Proof__ We will do a proof by contradiction. Let us assume that there is an input ($n$, preference matrices for men/women) that runs forever without terminating. To derive a contradiction, we note the following at the start of any round:\n",
    "\n",
    "- Each man has a list of women that he has not previously proposed to.\n",
    "- Since the process has not already terminated, there is at least one man $M_j$ who is unassigned.\n",
    "- As a result of this round, $M_j$ proposes to a woman and the size of his list reduces by 1.\n",
    "\n",
    "To summarize, if the process ran forever, at each step the size of the list for at least one man has to reduce by 1. But the lists are all of finite length and there are finitely many men/women. By Konig's theorem, there is at least one man whose list keeps reducing in size forever. \n",
    "\n",
    "But this is a contradiction, since the list would have become empty after finitely many steps and not reduced further.\n",
    "\n",
    "__Theorem__ Given a problem with $n$ men/women, the algorithm terminates within $n^2$ rounds.\n",
    "\n",
    "__Proof__ At the beginning of each round $j$, sum up the sizes of the lists for all men, let us call this quantity $M(j)$.\n",
    "\n",
    "$$ M(j) = \\sum_{i=1}^n | lst(M_i) | $$\n",
    "\n",
    "where $|lst(M_i)|$ represents the size of the list of unproposed women for man $M_i$.\n",
    "\n",
    "Initially $M(0) = n^2$, and for each round, the value of $M(j+1)$ reduces by at least one. Therefore, \n",
    "total number of rounds before termination cannot exceed $n^2$.\n",
    "\n",
    "\n",
    "Correctness Proof\n",
    "-----------------\n",
    "\n",
    "We first prove that when the deferred acceptance algorithm terminates, it always does so with a matching. This means proving\n",
    "that (a) there are no unassigned men/women  and (b) every man is mapped to exactly one woman.\n",
    "\n",
    "__Lemma__ If at any round $j$ of the algorithm, a woman $w$ has been matched, she will continue to remain matched (possibly to a different man) in the subsequent round.\n",
    "\n",
    "__Proof__ This is easy to see by the structure of the algorithm. At each round, one of two possibilities occur:\n",
    "\n",
    "1. Woman receives no fresh proposals and therefore, continues to remain matched to her current partner.\n",
    "2. Woman receives fresh proposals, and chooses the best man from all the proposals received including her currently matched partner.\n",
    "\n",
    "In either case, the woman will remain matched in the next round. __(QED)__\n",
    "\n",
    "__Lemma__ At each round of the algorithm, each man is matched to *at most* one woman, and each woman to at most one man.\n",
    "\n",
    "__Proof__ This is proved easily induction.\n",
    "\n",
    "__Base Case__ At the start, no man or woman is matched. Therefore, the statement is trivially true.\n",
    "\n",
    "__Ind. Hyp.__ If the stmt. holds at the start of round $j$, it is also true at the end of the round.\n",
    "\n",
    "*Leave this as an exercise.*\n",
    "\n",
    "__(QED)__\n",
    "\n",
    "\n",
    "\n",
    "__Theorem__ For all possible inputs, when the deferred acceptance algorithm terminates, there are no unassigned men/women.\n",
    "\n",
    "__Proof__ Let us assume for the sake of contradiction that the algorithm does terminate and at least one  man, \n",
    "say $m$, is unmatched. As a result,  since each man can be matched to at most one woman at any round, we conclude that there are as many unmatched women as men. Therefore, some woman, say $w$, is unmatched.\n",
    "\n",
    "Since the algorithm terminated, it must have done so with the list of women that $m$ has yet to propose to as an empty list. In other words, $m$ must have proposed to all the women, including $w$. But since $w$ rejected $m$, she must have matched to someone else. But we proved that once a woman is matched at a round, she remains matched at all subsequent rounds. Therefore, $w$ cannot be unmatched.\n",
    "\n",
    "We have the required contradiction, and the result is thus proved. __(QED)__\n",
    "\n",
    "\n",
    "__Lemma__ At each round if a man $M_j$ proposes to his $k^{th}$ preference, he must have already proposed to every woman of preference number $k$ or smaller. (higher preference).\n",
    "\n",
    "__Proof__ This directly follows from the algorithn and can be proved by induction.\n",
    "\n",
    "__Lemma__ If at the beginning of a round, a woman  $W_j$ is matched to her preference number $k$, then at the end of the round she is matched to a man with $k$ or smaller.\n",
    "\n",
    "__Proof__ There are just two possibilities: the woman receives a proposal or not. If she does not, her preference for her partner remains the same. If she is, she selects the partner with the best preference (lowest preference number) from a list that includes her current matched partner. Therefore, the preference at the end of the round can only be smaller.\n",
    "\n",
    "\n",
    "__Theorem__ For all possible inputs, the deferred acceptance algorithm terminates with a *stable* matching.\n",
    "\n",
    "__Proof__ The statements above combine to prove that the algorithm terminates with a one-to-one correspondence or a matching. It remains to show that the matching is stable.\n",
    "\n",
    "*Suppose the matching were unstable.* Let $M$ be a man and $W$ be a woman who cause instability. I.e, $M$ prefers $W$ to his current match and $W$ prefers $M$ to hers.\n",
    "\n",
    "In the deferred acceptance algorithm, each man goes down the list of his preferences during the algorithm. Therefore, we note that\n",
    "> $M$ must have proposed to $W$ at some point in the run of the algorithm.\n",
    "\n",
    "However, since $M$ did not end up with $W$ at the final result, it is easy to see that either\n",
    "\n",
    "(a) $W$ must have already matched to someone of higher preference than $M$ when $M$ proposed to her, OR\n",
    "(b) $W$ must have received a proposal, later, from someone with higher preference.\n",
    " \n",
    " In either case, $W$ is matched to a man of higher preference than $M$. This contradicts the assumption that $M$ and $W$ prefer each other to their current partner. Therefore, an instability cannot exist.\n",
    " \n",
    " __Note__ The key to getting stability lies in two facts that the algorithm ensures:\n",
    " \n",
    " (a) Men go down their preference list.\n",
    " (b) Each women who is matched at the beginning of a round, is matched to a man of same or higher preference at the end of the round.\n",
    " \n",
    " \n",
    "\n",
    "\n",
    "\n",
    "\n",
    "\n",
    "\n",
    "\n",
    "\n",
    "\n",
    "\n"
   ]
  },
  {
   "cell_type": "markdown",
   "metadata": {},
   "source": [
    "Running Time Analysis\n",
    "=====================\n",
    "\n",
    "It is easy to see that the total number of rounds is bounded above by $n^2$. Why?\n",
    "\n",
    "In the worst case, each man will propose to each of the $n$ women down his list of preferences. There are $n$ men and as a result, we cannot have more than $n^2$ rounds.\n",
    "\n",
    "Can we do any better? As it turns out, it is possible to construct examples that take a long time to run. Here is an example with $6$ men and women that requires nearly $5^2-1=24$ rounds before completion.\n",
    "\n",
    "It is possible to generalize this to a generic construction that requires roughly $n^2 - 2n - 2$ rounds."
   ]
  },
  {
   "cell_type": "code",
   "execution_count": 117,
   "metadata": {},
   "outputs": [
    {
     "data": {
      "text/html": [
       "<span> Preference Data For Men </span> <br> <table><tbody> \n",
       " <tr><td></td><td bgcolor=\"blue\" width=\"40px\" align=\"center\"> a </td><td bgcolor=\"blue\" width=\"40px\" align=\"center\"> b </td><td bgcolor=\"blue\" width=\"40px\" align=\"center\"> c </td><td bgcolor=\"blue\" width=\"40px\" align=\"center\"> d </td><td bgcolor=\"blue\" width=\"40px\" align=\"center\"> e </td><td bgcolor=\"blue\" width=\"40px\" align=\"center\"> f </td> </tr>\n",
       "<tr> <td bgcolor=\"gray\" width=\"5px\">1 </td><td> 1 </td> <td> 5 </td> <td> 4 </td> <td> 3 </td> <td> 2 </td> <td> 6 </td></tr><tr> <td bgcolor=\"gray\" width=\"5px\">2 </td><td> 2 </td> <td> 1 </td> <td> 5 </td> <td> 4 </td> <td> 3 </td> <td> 6 </td></tr><tr> <td bgcolor=\"gray\" width=\"5px\">3 </td><td> 3 </td> <td> 2 </td> <td> 1 </td> <td> 5 </td> <td> 4 </td> <td> 6 </td></tr><tr> <td bgcolor=\"gray\" width=\"5px\">4 </td><td> 4 </td> <td> 3 </td> <td> 2 </td> <td> 1 </td> <td> 5 </td> <td> 6 </td></tr><tr> <td bgcolor=\"gray\" width=\"5px\">5 </td><td> 5 </td> <td> 4 </td> <td> 3 </td> <td> 2 </td> <td> 1 </td> <td> 6 </td></tr><tr> <td bgcolor=\"gray\" width=\"5px\">6 </td><td> 1 </td> <td> 2 </td> <td> 3 </td> <td> 4 </td> <td> 5 </td> <td> 6 </td></tr></tbody></table>&nbsp;&nbsp;<span> Preference Data For Women </span> <br> <table><tbody> \n",
       " <tr><td></td><td bgcolor=\"blue\" width=\"40px\" align=\"center\"> 1 </td><td bgcolor=\"blue\" width=\"40px\" align=\"center\"> 2 </td><td bgcolor=\"blue\" width=\"40px\" align=\"center\"> 3 </td><td bgcolor=\"blue\" width=\"40px\" align=\"center\"> 4 </td><td bgcolor=\"blue\" width=\"40px\" align=\"center\"> 5 </td><td bgcolor=\"blue\" width=\"40px\" align=\"center\"> 6 </td> </tr>\n",
       "<tr> <td bgcolor=\"gray\" width=\"5px\">a </td><td> 6 </td> <td> 1 </td> <td> 2 </td> <td> 3 </td> <td> 4 </td> <td> 5 </td></tr><tr> <td bgcolor=\"gray\" width=\"5px\">b </td><td> 4 </td> <td> 6 </td> <td> 1 </td> <td> 2 </td> <td> 3 </td> <td> 5 </td></tr><tr> <td bgcolor=\"gray\" width=\"5px\">c </td><td> 3 </td> <td> 4 </td> <td> 6 </td> <td> 1 </td> <td> 2 </td> <td> 5 </td></tr><tr> <td bgcolor=\"gray\" width=\"5px\">d </td><td> 2 </td> <td> 3 </td> <td> 4 </td> <td> 6 </td> <td> 1 </td> <td> 5 </td></tr><tr> <td bgcolor=\"gray\" width=\"5px\">e </td><td> 1 </td> <td> 2 </td> <td> 3 </td> <td> 4 </td> <td> 6 </td> <td> 5 </td></tr><tr> <td bgcolor=\"gray\" width=\"5px\">f </td><td> 1 </td> <td> 2 </td> <td> 3 </td> <td> 4 </td> <td> 5 </td> <td> 6 </td></tr></tbody></table>"
      ],
      "text/plain": [
       "<IPython.core.display.HTML at 0x10699f190>"
      ]
     },
     "metadata": {},
     "output_type": "display_data"
    },
    {
     "name": "stdout",
     "output_type": "stream",
     "text": [
      "Round # 1\n",
      "\n",
      "-------------\n",
      "\n",
      "Proposals by men:\n",
      "\n",
      "\t\t ----> man 1 proposes to woman a \n",
      "\n",
      "\t\t ----> man 2 proposes to woman b \n",
      "\n",
      "\t\t ----> man 3 proposes to woman c \n",
      "\n",
      "\t\t ----> man 4 proposes to woman d \n",
      "\n",
      "\t\t ----> man 5 proposes to woman e \n",
      "\n",
      "\t\t ----> man 6 proposes to woman a \n",
      "\n",
      "Deferred Acceptances by women:\n",
      "\n",
      "\t\t ~~~> Woman a will accept proposal from 6 \n",
      "\n",
      "\t\t ~~~> Woman b will accept proposal from 2 \n",
      "\n",
      "\t\t ~~~> Woman c will accept proposal from 3 \n",
      "\n",
      "\t\t ~~~> Woman d will accept proposal from 4 \n",
      "\n",
      "\t\t ~~~> Woman e will accept proposal from 5 \n",
      "\n"
     ]
    },
    {
     "data": {
      "text/html": [
       "<p><h3> (Partial) Matching: </h3>\n",
       "<p><table border=\"1px solid black\"><tbody><tr>                           <td bgcolor=\"gray\"> Man </td> <td bgcolor=\"gray\"> Woman </td></tr>\n",
       "\n",
       "<tr><td> 2 </td><td> b</td></tr>\n",
       "\n",
       "<tr><td> 3 </td><td> c</td></tr>\n",
       "\n",
       "<tr><td> 4 </td><td> d</td></tr>\n",
       "\n",
       "<tr><td> 5 </td><td> e</td></tr>\n",
       "\n",
       "<tr><td> 6 </td><td> a</td></tr>\n",
       "\n",
       "</tbody></table>\n",
       "\n",
       "<p><b> Unmatched MEN:</b> \n",
       " <ul>\n",
       "<li>1\n",
       "\n",
       "</ul>\n",
       "<p><b> Unmatched WOMEN:</b>\n",
       "<ul>\n",
       "<li>f\n",
       "\n",
       "</ul>\n"
      ],
      "text/plain": [
       "<IPython.core.display.HTML at 0x10699f0d0>"
      ]
     },
     "metadata": {},
     "output_type": "display_data"
    },
    {
     "name": "stdout",
     "output_type": "stream",
     "text": [
      "Round # 2\n",
      "\n",
      "-------------\n",
      "\n",
      "Proposals by men:\n",
      "\n",
      "\t\t ----> man 1 proposes to woman e \n",
      "\n",
      "Deferred Acceptances by women:\n",
      "\n",
      "\t\t ~~~> Woman e will accept proposal from 1 \n",
      "\n"
     ]
    },
    {
     "data": {
      "text/html": [
       "<p><h3> (Partial) Matching: </h3>\n",
       "<p><table border=\"1px solid black\"><tbody><tr>                           <td bgcolor=\"gray\"> Man </td> <td bgcolor=\"gray\"> Woman </td></tr>\n",
       "\n",
       "<tr><td> 1 </td><td> e</td></tr>\n",
       "\n",
       "<tr><td> 2 </td><td> b</td></tr>\n",
       "\n",
       "<tr><td> 3 </td><td> c</td></tr>\n",
       "\n",
       "<tr><td> 4 </td><td> d</td></tr>\n",
       "\n",
       "<tr><td> 6 </td><td> a</td></tr>\n",
       "\n",
       "</tbody></table>\n",
       "\n",
       "<p><b> Unmatched MEN:</b> \n",
       " <ul>\n",
       "<li>5\n",
       "\n",
       "</ul>\n",
       "<p><b> Unmatched WOMEN:</b>\n",
       "<ul>\n",
       "<li>f\n",
       "\n",
       "</ul>\n"
      ],
      "text/plain": [
       "<IPython.core.display.HTML at 0x10699f0d0>"
      ]
     },
     "metadata": {},
     "output_type": "display_data"
    },
    {
     "name": "stdout",
     "output_type": "stream",
     "text": [
      "Round # 3\n",
      "\n",
      "-------------\n",
      "\n",
      "Proposals by men:\n",
      "\n",
      "\t\t ----> man 5 proposes to woman d \n",
      "\n",
      "Deferred Acceptances by women:\n",
      "\n",
      "\t\t ~~~> Woman d will accept proposal from 5 \n",
      "\n"
     ]
    },
    {
     "data": {
      "text/html": [
       "<p><h3> (Partial) Matching: </h3>\n",
       "<p><table border=\"1px solid black\"><tbody><tr>                           <td bgcolor=\"gray\"> Man </td> <td bgcolor=\"gray\"> Woman </td></tr>\n",
       "\n",
       "<tr><td> 1 </td><td> e</td></tr>\n",
       "\n",
       "<tr><td> 2 </td><td> b</td></tr>\n",
       "\n",
       "<tr><td> 3 </td><td> c</td></tr>\n",
       "\n",
       "<tr><td> 5 </td><td> d</td></tr>\n",
       "\n",
       "<tr><td> 6 </td><td> a</td></tr>\n",
       "\n",
       "</tbody></table>\n",
       "\n",
       "<p><b> Unmatched MEN:</b> \n",
       " <ul>\n",
       "<li>4\n",
       "\n",
       "</ul>\n",
       "<p><b> Unmatched WOMEN:</b>\n",
       "<ul>\n",
       "<li>f\n",
       "\n",
       "</ul>\n"
      ],
      "text/plain": [
       "<IPython.core.display.HTML at 0x10699f0d0>"
      ]
     },
     "metadata": {},
     "output_type": "display_data"
    },
    {
     "name": "stdout",
     "output_type": "stream",
     "text": [
      "Round # 4\n",
      "\n",
      "-------------\n",
      "\n",
      "Proposals by men:\n",
      "\n",
      "\t\t ----> man 4 proposes to woman c \n",
      "\n",
      "Deferred Acceptances by women:\n",
      "\n",
      "\t\t ~~~> Woman c will accept proposal from 4 \n",
      "\n"
     ]
    },
    {
     "data": {
      "text/html": [
       "<p><h3> (Partial) Matching: </h3>\n",
       "<p><table border=\"1px solid black\"><tbody><tr>                           <td bgcolor=\"gray\"> Man </td> <td bgcolor=\"gray\"> Woman </td></tr>\n",
       "\n",
       "<tr><td> 1 </td><td> e</td></tr>\n",
       "\n",
       "<tr><td> 2 </td><td> b</td></tr>\n",
       "\n",
       "<tr><td> 4 </td><td> c</td></tr>\n",
       "\n",
       "<tr><td> 5 </td><td> d</td></tr>\n",
       "\n",
       "<tr><td> 6 </td><td> a</td></tr>\n",
       "\n",
       "</tbody></table>\n",
       "\n",
       "<p><b> Unmatched MEN:</b> \n",
       " <ul>\n",
       "<li>3\n",
       "\n",
       "</ul>\n",
       "<p><b> Unmatched WOMEN:</b>\n",
       "<ul>\n",
       "<li>f\n",
       "\n",
       "</ul>\n"
      ],
      "text/plain": [
       "<IPython.core.display.HTML at 0x10699f0d0>"
      ]
     },
     "metadata": {},
     "output_type": "display_data"
    },
    {
     "name": "stdout",
     "output_type": "stream",
     "text": [
      "Round # 5\n",
      "\n",
      "-------------\n",
      "\n",
      "Proposals by men:\n",
      "\n",
      "\t\t ----> man 3 proposes to woman b \n",
      "\n",
      "Deferred Acceptances by women:\n",
      "\n",
      "\t\t ~~~> Woman b will accept proposal from 3 \n",
      "\n"
     ]
    },
    {
     "data": {
      "text/html": [
       "<p><h3> (Partial) Matching: </h3>\n",
       "<p><table border=\"1px solid black\"><tbody><tr>                           <td bgcolor=\"gray\"> Man </td> <td bgcolor=\"gray\"> Woman </td></tr>\n",
       "\n",
       "<tr><td> 1 </td><td> e</td></tr>\n",
       "\n",
       "<tr><td> 3 </td><td> b</td></tr>\n",
       "\n",
       "<tr><td> 4 </td><td> c</td></tr>\n",
       "\n",
       "<tr><td> 5 </td><td> d</td></tr>\n",
       "\n",
       "<tr><td> 6 </td><td> a</td></tr>\n",
       "\n",
       "</tbody></table>\n",
       "\n",
       "<p><b> Unmatched MEN:</b> \n",
       " <ul>\n",
       "<li>2\n",
       "\n",
       "</ul>\n",
       "<p><b> Unmatched WOMEN:</b>\n",
       "<ul>\n",
       "<li>f\n",
       "\n",
       "</ul>\n"
      ],
      "text/plain": [
       "<IPython.core.display.HTML at 0x10699f0d0>"
      ]
     },
     "metadata": {},
     "output_type": "display_data"
    },
    {
     "name": "stdout",
     "output_type": "stream",
     "text": [
      "Round # 6\n",
      "\n",
      "-------------\n",
      "\n",
      "Proposals by men:\n",
      "\n",
      "\t\t ----> man 2 proposes to woman a \n",
      "\n",
      "Deferred Acceptances by women:\n",
      "\n",
      "\t\t ~~~> Woman a will accept proposal from 6 \n",
      "\n"
     ]
    },
    {
     "data": {
      "text/html": [
       "<p><h3> (Partial) Matching: </h3>\n",
       "<p><table border=\"1px solid black\"><tbody><tr>                           <td bgcolor=\"gray\"> Man </td> <td bgcolor=\"gray\"> Woman </td></tr>\n",
       "\n",
       "<tr><td> 1 </td><td> e</td></tr>\n",
       "\n",
       "<tr><td> 3 </td><td> b</td></tr>\n",
       "\n",
       "<tr><td> 4 </td><td> c</td></tr>\n",
       "\n",
       "<tr><td> 5 </td><td> d</td></tr>\n",
       "\n",
       "<tr><td> 6 </td><td> a</td></tr>\n",
       "\n",
       "</tbody></table>\n",
       "\n",
       "<p><b> Unmatched MEN:</b> \n",
       " <ul>\n",
       "<li>2\n",
       "\n",
       "</ul>\n",
       "<p><b> Unmatched WOMEN:</b>\n",
       "<ul>\n",
       "<li>f\n",
       "\n",
       "</ul>\n"
      ],
      "text/plain": [
       "<IPython.core.display.HTML at 0x10699f0d0>"
      ]
     },
     "metadata": {},
     "output_type": "display_data"
    },
    {
     "name": "stdout",
     "output_type": "stream",
     "text": [
      "Round # 7\n",
      "\n",
      "-------------\n",
      "\n",
      "Proposals by men:\n",
      "\n",
      "\t\t ----> man 2 proposes to woman e \n",
      "\n",
      "Deferred Acceptances by women:\n",
      "\n",
      "\t\t ~~~> Woman e will accept proposal from 2 \n",
      "\n"
     ]
    },
    {
     "data": {
      "text/html": [
       "<p><h3> (Partial) Matching: </h3>\n",
       "<p><table border=\"1px solid black\"><tbody><tr>                           <td bgcolor=\"gray\"> Man </td> <td bgcolor=\"gray\"> Woman </td></tr>\n",
       "\n",
       "<tr><td> 2 </td><td> e</td></tr>\n",
       "\n",
       "<tr><td> 3 </td><td> b</td></tr>\n",
       "\n",
       "<tr><td> 4 </td><td> c</td></tr>\n",
       "\n",
       "<tr><td> 5 </td><td> d</td></tr>\n",
       "\n",
       "<tr><td> 6 </td><td> a</td></tr>\n",
       "\n",
       "</tbody></table>\n",
       "\n",
       "<p><b> Unmatched MEN:</b> \n",
       " <ul>\n",
       "<li>1\n",
       "\n",
       "</ul>\n",
       "<p><b> Unmatched WOMEN:</b>\n",
       "<ul>\n",
       "<li>f\n",
       "\n",
       "</ul>\n"
      ],
      "text/plain": [
       "<IPython.core.display.HTML at 0x10699f0d0>"
      ]
     },
     "metadata": {},
     "output_type": "display_data"
    },
    {
     "name": "stdout",
     "output_type": "stream",
     "text": [
      "Round # 8\n",
      "\n",
      "-------------\n",
      "\n",
      "Proposals by men:\n",
      "\n",
      "\t\t ----> man 1 proposes to woman d \n",
      "\n",
      "Deferred Acceptances by women:\n",
      "\n",
      "\t\t ~~~> Woman d will accept proposal from 1 \n",
      "\n"
     ]
    },
    {
     "data": {
      "text/html": [
       "<p><h3> (Partial) Matching: </h3>\n",
       "<p><table border=\"1px solid black\"><tbody><tr>                           <td bgcolor=\"gray\"> Man </td> <td bgcolor=\"gray\"> Woman </td></tr>\n",
       "\n",
       "<tr><td> 1 </td><td> d</td></tr>\n",
       "\n",
       "<tr><td> 2 </td><td> e</td></tr>\n",
       "\n",
       "<tr><td> 3 </td><td> b</td></tr>\n",
       "\n",
       "<tr><td> 4 </td><td> c</td></tr>\n",
       "\n",
       "<tr><td> 6 </td><td> a</td></tr>\n",
       "\n",
       "</tbody></table>\n",
       "\n",
       "<p><b> Unmatched MEN:</b> \n",
       " <ul>\n",
       "<li>5\n",
       "\n",
       "</ul>\n",
       "<p><b> Unmatched WOMEN:</b>\n",
       "<ul>\n",
       "<li>f\n",
       "\n",
       "</ul>\n"
      ],
      "text/plain": [
       "<IPython.core.display.HTML at 0x10699f0d0>"
      ]
     },
     "metadata": {},
     "output_type": "display_data"
    },
    {
     "name": "stdout",
     "output_type": "stream",
     "text": [
      "Round # 9\n",
      "\n",
      "-------------\n",
      "\n",
      "Proposals by men:\n",
      "\n",
      "\t\t ----> man 5 proposes to woman c \n",
      "\n",
      "Deferred Acceptances by women:\n",
      "\n",
      "\t\t ~~~> Woman c will accept proposal from 5 \n",
      "\n"
     ]
    },
    {
     "data": {
      "text/html": [
       "<p><h3> (Partial) Matching: </h3>\n",
       "<p><table border=\"1px solid black\"><tbody><tr>                           <td bgcolor=\"gray\"> Man </td> <td bgcolor=\"gray\"> Woman </td></tr>\n",
       "\n",
       "<tr><td> 1 </td><td> d</td></tr>\n",
       "\n",
       "<tr><td> 2 </td><td> e</td></tr>\n",
       "\n",
       "<tr><td> 3 </td><td> b</td></tr>\n",
       "\n",
       "<tr><td> 5 </td><td> c</td></tr>\n",
       "\n",
       "<tr><td> 6 </td><td> a</td></tr>\n",
       "\n",
       "</tbody></table>\n",
       "\n",
       "<p><b> Unmatched MEN:</b> \n",
       " <ul>\n",
       "<li>4\n",
       "\n",
       "</ul>\n",
       "<p><b> Unmatched WOMEN:</b>\n",
       "<ul>\n",
       "<li>f\n",
       "\n",
       "</ul>\n"
      ],
      "text/plain": [
       "<IPython.core.display.HTML at 0x10699f0d0>"
      ]
     },
     "metadata": {},
     "output_type": "display_data"
    },
    {
     "name": "stdout",
     "output_type": "stream",
     "text": [
      "Round # 10\n",
      "\n",
      "-------------\n",
      "\n",
      "Proposals by men:\n",
      "\n",
      "\t\t ----> man 4 proposes to woman b \n",
      "\n",
      "Deferred Acceptances by women:\n",
      "\n",
      "\t\t ~~~> Woman b will accept proposal from 4 \n",
      "\n"
     ]
    },
    {
     "data": {
      "text/html": [
       "<p><h3> (Partial) Matching: </h3>\n",
       "<p><table border=\"1px solid black\"><tbody><tr>                           <td bgcolor=\"gray\"> Man </td> <td bgcolor=\"gray\"> Woman </td></tr>\n",
       "\n",
       "<tr><td> 1 </td><td> d</td></tr>\n",
       "\n",
       "<tr><td> 2 </td><td> e</td></tr>\n",
       "\n",
       "<tr><td> 4 </td><td> b</td></tr>\n",
       "\n",
       "<tr><td> 5 </td><td> c</td></tr>\n",
       "\n",
       "<tr><td> 6 </td><td> a</td></tr>\n",
       "\n",
       "</tbody></table>\n",
       "\n",
       "<p><b> Unmatched MEN:</b> \n",
       " <ul>\n",
       "<li>3\n",
       "\n",
       "</ul>\n",
       "<p><b> Unmatched WOMEN:</b>\n",
       "<ul>\n",
       "<li>f\n",
       "\n",
       "</ul>\n"
      ],
      "text/plain": [
       "<IPython.core.display.HTML at 0x10699f0d0>"
      ]
     },
     "metadata": {},
     "output_type": "display_data"
    },
    {
     "name": "stdout",
     "output_type": "stream",
     "text": [
      "Round # 11\n",
      "\n",
      "-------------\n",
      "\n",
      "Proposals by men:\n",
      "\n",
      "\t\t ----> man 3 proposes to woman a \n",
      "\n",
      "Deferred Acceptances by women:\n",
      "\n",
      "\t\t ~~~> Woman a will accept proposal from 6 \n",
      "\n"
     ]
    },
    {
     "data": {
      "text/html": [
       "<p><h3> (Partial) Matching: </h3>\n",
       "<p><table border=\"1px solid black\"><tbody><tr>                           <td bgcolor=\"gray\"> Man </td> <td bgcolor=\"gray\"> Woman </td></tr>\n",
       "\n",
       "<tr><td> 1 </td><td> d</td></tr>\n",
       "\n",
       "<tr><td> 2 </td><td> e</td></tr>\n",
       "\n",
       "<tr><td> 4 </td><td> b</td></tr>\n",
       "\n",
       "<tr><td> 5 </td><td> c</td></tr>\n",
       "\n",
       "<tr><td> 6 </td><td> a</td></tr>\n",
       "\n",
       "</tbody></table>\n",
       "\n",
       "<p><b> Unmatched MEN:</b> \n",
       " <ul>\n",
       "<li>3\n",
       "\n",
       "</ul>\n",
       "<p><b> Unmatched WOMEN:</b>\n",
       "<ul>\n",
       "<li>f\n",
       "\n",
       "</ul>\n"
      ],
      "text/plain": [
       "<IPython.core.display.HTML at 0x10699f0d0>"
      ]
     },
     "metadata": {},
     "output_type": "display_data"
    },
    {
     "name": "stdout",
     "output_type": "stream",
     "text": [
      "Round # 12\n",
      "\n",
      "-------------\n",
      "\n",
      "Proposals by men:\n",
      "\n",
      "\t\t ----> man 3 proposes to woman e \n",
      "\n",
      "Deferred Acceptances by women:\n",
      "\n",
      "\t\t ~~~> Woman e will accept proposal from 3 \n",
      "\n"
     ]
    },
    {
     "data": {
      "text/html": [
       "<p><h3> (Partial) Matching: </h3>\n",
       "<p><table border=\"1px solid black\"><tbody><tr>                           <td bgcolor=\"gray\"> Man </td> <td bgcolor=\"gray\"> Woman </td></tr>\n",
       "\n",
       "<tr><td> 1 </td><td> d</td></tr>\n",
       "\n",
       "<tr><td> 3 </td><td> e</td></tr>\n",
       "\n",
       "<tr><td> 4 </td><td> b</td></tr>\n",
       "\n",
       "<tr><td> 5 </td><td> c</td></tr>\n",
       "\n",
       "<tr><td> 6 </td><td> a</td></tr>\n",
       "\n",
       "</tbody></table>\n",
       "\n",
       "<p><b> Unmatched MEN:</b> \n",
       " <ul>\n",
       "<li>2\n",
       "\n",
       "</ul>\n",
       "<p><b> Unmatched WOMEN:</b>\n",
       "<ul>\n",
       "<li>f\n",
       "\n",
       "</ul>\n"
      ],
      "text/plain": [
       "<IPython.core.display.HTML at 0x10699f0d0>"
      ]
     },
     "metadata": {},
     "output_type": "display_data"
    },
    {
     "name": "stdout",
     "output_type": "stream",
     "text": [
      "Round # 13\n",
      "\n",
      "-------------\n",
      "\n",
      "Proposals by men:\n",
      "\n",
      "\t\t ----> man 2 proposes to woman d \n",
      "\n",
      "Deferred Acceptances by women:\n",
      "\n",
      "\t\t ~~~> Woman d will accept proposal from 2 \n",
      "\n"
     ]
    },
    {
     "data": {
      "text/html": [
       "<p><h3> (Partial) Matching: </h3>\n",
       "<p><table border=\"1px solid black\"><tbody><tr>                           <td bgcolor=\"gray\"> Man </td> <td bgcolor=\"gray\"> Woman </td></tr>\n",
       "\n",
       "<tr><td> 2 </td><td> d</td></tr>\n",
       "\n",
       "<tr><td> 3 </td><td> e</td></tr>\n",
       "\n",
       "<tr><td> 4 </td><td> b</td></tr>\n",
       "\n",
       "<tr><td> 5 </td><td> c</td></tr>\n",
       "\n",
       "<tr><td> 6 </td><td> a</td></tr>\n",
       "\n",
       "</tbody></table>\n",
       "\n",
       "<p><b> Unmatched MEN:</b> \n",
       " <ul>\n",
       "<li>1\n",
       "\n",
       "</ul>\n",
       "<p><b> Unmatched WOMEN:</b>\n",
       "<ul>\n",
       "<li>f\n",
       "\n",
       "</ul>\n"
      ],
      "text/plain": [
       "<IPython.core.display.HTML at 0x10699f0d0>"
      ]
     },
     "metadata": {},
     "output_type": "display_data"
    },
    {
     "name": "stdout",
     "output_type": "stream",
     "text": [
      "Round # 14\n",
      "\n",
      "-------------\n",
      "\n",
      "Proposals by men:\n",
      "\n",
      "\t\t ----> man 1 proposes to woman c \n",
      "\n",
      "Deferred Acceptances by women:\n",
      "\n",
      "\t\t ~~~> Woman c will accept proposal from 1 \n",
      "\n"
     ]
    },
    {
     "data": {
      "text/html": [
       "<p><h3> (Partial) Matching: </h3>\n",
       "<p><table border=\"1px solid black\"><tbody><tr>                           <td bgcolor=\"gray\"> Man </td> <td bgcolor=\"gray\"> Woman </td></tr>\n",
       "\n",
       "<tr><td> 1 </td><td> c</td></tr>\n",
       "\n",
       "<tr><td> 2 </td><td> d</td></tr>\n",
       "\n",
       "<tr><td> 3 </td><td> e</td></tr>\n",
       "\n",
       "<tr><td> 4 </td><td> b</td></tr>\n",
       "\n",
       "<tr><td> 6 </td><td> a</td></tr>\n",
       "\n",
       "</tbody></table>\n",
       "\n",
       "<p><b> Unmatched MEN:</b> \n",
       " <ul>\n",
       "<li>5\n",
       "\n",
       "</ul>\n",
       "<p><b> Unmatched WOMEN:</b>\n",
       "<ul>\n",
       "<li>f\n",
       "\n",
       "</ul>\n"
      ],
      "text/plain": [
       "<IPython.core.display.HTML at 0x10699f0d0>"
      ]
     },
     "metadata": {},
     "output_type": "display_data"
    },
    {
     "name": "stdout",
     "output_type": "stream",
     "text": [
      "Round # 15\n",
      "\n",
      "-------------\n",
      "\n",
      "Proposals by men:\n",
      "\n",
      "\t\t ----> man 5 proposes to woman b \n",
      "\n",
      "Deferred Acceptances by women:\n",
      "\n",
      "\t\t ~~~> Woman b will accept proposal from 5 \n",
      "\n"
     ]
    },
    {
     "data": {
      "text/html": [
       "<p><h3> (Partial) Matching: </h3>\n",
       "<p><table border=\"1px solid black\"><tbody><tr>                           <td bgcolor=\"gray\"> Man </td> <td bgcolor=\"gray\"> Woman </td></tr>\n",
       "\n",
       "<tr><td> 1 </td><td> c</td></tr>\n",
       "\n",
       "<tr><td> 2 </td><td> d</td></tr>\n",
       "\n",
       "<tr><td> 3 </td><td> e</td></tr>\n",
       "\n",
       "<tr><td> 5 </td><td> b</td></tr>\n",
       "\n",
       "<tr><td> 6 </td><td> a</td></tr>\n",
       "\n",
       "</tbody></table>\n",
       "\n",
       "<p><b> Unmatched MEN:</b> \n",
       " <ul>\n",
       "<li>4\n",
       "\n",
       "</ul>\n",
       "<p><b> Unmatched WOMEN:</b>\n",
       "<ul>\n",
       "<li>f\n",
       "\n",
       "</ul>\n"
      ],
      "text/plain": [
       "<IPython.core.display.HTML at 0x10699f0d0>"
      ]
     },
     "metadata": {},
     "output_type": "display_data"
    },
    {
     "name": "stdout",
     "output_type": "stream",
     "text": [
      "Round # 16\n",
      "\n",
      "-------------\n",
      "\n",
      "Proposals by men:\n",
      "\n",
      "\t\t ----> man 4 proposes to woman a \n",
      "\n",
      "Deferred Acceptances by women:\n",
      "\n",
      "\t\t ~~~> Woman a will accept proposal from 6 \n",
      "\n"
     ]
    },
    {
     "data": {
      "text/html": [
       "<p><h3> (Partial) Matching: </h3>\n",
       "<p><table border=\"1px solid black\"><tbody><tr>                           <td bgcolor=\"gray\"> Man </td> <td bgcolor=\"gray\"> Woman </td></tr>\n",
       "\n",
       "<tr><td> 1 </td><td> c</td></tr>\n",
       "\n",
       "<tr><td> 2 </td><td> d</td></tr>\n",
       "\n",
       "<tr><td> 3 </td><td> e</td></tr>\n",
       "\n",
       "<tr><td> 5 </td><td> b</td></tr>\n",
       "\n",
       "<tr><td> 6 </td><td> a</td></tr>\n",
       "\n",
       "</tbody></table>\n",
       "\n",
       "<p><b> Unmatched MEN:</b> \n",
       " <ul>\n",
       "<li>4\n",
       "\n",
       "</ul>\n",
       "<p><b> Unmatched WOMEN:</b>\n",
       "<ul>\n",
       "<li>f\n",
       "\n",
       "</ul>\n"
      ],
      "text/plain": [
       "<IPython.core.display.HTML at 0x10699f0d0>"
      ]
     },
     "metadata": {},
     "output_type": "display_data"
    },
    {
     "name": "stdout",
     "output_type": "stream",
     "text": [
      "Round # 17\n",
      "\n",
      "-------------\n",
      "\n",
      "Proposals by men:\n",
      "\n",
      "\t\t ----> man 4 proposes to woman e \n",
      "\n",
      "Deferred Acceptances by women:\n",
      "\n",
      "\t\t ~~~> Woman e will accept proposal from 4 \n",
      "\n"
     ]
    },
    {
     "data": {
      "text/html": [
       "<p><h3> (Partial) Matching: </h3>\n",
       "<p><table border=\"1px solid black\"><tbody><tr>                           <td bgcolor=\"gray\"> Man </td> <td bgcolor=\"gray\"> Woman </td></tr>\n",
       "\n",
       "<tr><td> 1 </td><td> c</td></tr>\n",
       "\n",
       "<tr><td> 2 </td><td> d</td></tr>\n",
       "\n",
       "<tr><td> 4 </td><td> e</td></tr>\n",
       "\n",
       "<tr><td> 5 </td><td> b</td></tr>\n",
       "\n",
       "<tr><td> 6 </td><td> a</td></tr>\n",
       "\n",
       "</tbody></table>\n",
       "\n",
       "<p><b> Unmatched MEN:</b> \n",
       " <ul>\n",
       "<li>3\n",
       "\n",
       "</ul>\n",
       "<p><b> Unmatched WOMEN:</b>\n",
       "<ul>\n",
       "<li>f\n",
       "\n",
       "</ul>\n"
      ],
      "text/plain": [
       "<IPython.core.display.HTML at 0x10699f0d0>"
      ]
     },
     "metadata": {},
     "output_type": "display_data"
    },
    {
     "name": "stdout",
     "output_type": "stream",
     "text": [
      "Round # 18\n",
      "\n",
      "-------------\n",
      "\n",
      "Proposals by men:\n",
      "\n",
      "\t\t ----> man 3 proposes to woman d \n",
      "\n",
      "Deferred Acceptances by women:\n",
      "\n",
      "\t\t ~~~> Woman d will accept proposal from 3 \n",
      "\n"
     ]
    },
    {
     "data": {
      "text/html": [
       "<p><h3> (Partial) Matching: </h3>\n",
       "<p><table border=\"1px solid black\"><tbody><tr>                           <td bgcolor=\"gray\"> Man </td> <td bgcolor=\"gray\"> Woman </td></tr>\n",
       "\n",
       "<tr><td> 1 </td><td> c</td></tr>\n",
       "\n",
       "<tr><td> 3 </td><td> d</td></tr>\n",
       "\n",
       "<tr><td> 4 </td><td> e</td></tr>\n",
       "\n",
       "<tr><td> 5 </td><td> b</td></tr>\n",
       "\n",
       "<tr><td> 6 </td><td> a</td></tr>\n",
       "\n",
       "</tbody></table>\n",
       "\n",
       "<p><b> Unmatched MEN:</b> \n",
       " <ul>\n",
       "<li>2\n",
       "\n",
       "</ul>\n",
       "<p><b> Unmatched WOMEN:</b>\n",
       "<ul>\n",
       "<li>f\n",
       "\n",
       "</ul>\n"
      ],
      "text/plain": [
       "<IPython.core.display.HTML at 0x10699f0d0>"
      ]
     },
     "metadata": {},
     "output_type": "display_data"
    },
    {
     "name": "stdout",
     "output_type": "stream",
     "text": [
      "Round # 19\n",
      "\n",
      "-------------\n",
      "\n",
      "Proposals by men:\n",
      "\n",
      "\t\t ----> man 2 proposes to woman c \n",
      "\n",
      "Deferred Acceptances by women:\n",
      "\n",
      "\t\t ~~~> Woman c will accept proposal from 2 \n",
      "\n"
     ]
    },
    {
     "data": {
      "text/html": [
       "<p><h3> (Partial) Matching: </h3>\n",
       "<p><table border=\"1px solid black\"><tbody><tr>                           <td bgcolor=\"gray\"> Man </td> <td bgcolor=\"gray\"> Woman </td></tr>\n",
       "\n",
       "<tr><td> 2 </td><td> c</td></tr>\n",
       "\n",
       "<tr><td> 3 </td><td> d</td></tr>\n",
       "\n",
       "<tr><td> 4 </td><td> e</td></tr>\n",
       "\n",
       "<tr><td> 5 </td><td> b</td></tr>\n",
       "\n",
       "<tr><td> 6 </td><td> a</td></tr>\n",
       "\n",
       "</tbody></table>\n",
       "\n",
       "<p><b> Unmatched MEN:</b> \n",
       " <ul>\n",
       "<li>1\n",
       "\n",
       "</ul>\n",
       "<p><b> Unmatched WOMEN:</b>\n",
       "<ul>\n",
       "<li>f\n",
       "\n",
       "</ul>\n"
      ],
      "text/plain": [
       "<IPython.core.display.HTML at 0x10699f0d0>"
      ]
     },
     "metadata": {},
     "output_type": "display_data"
    },
    {
     "name": "stdout",
     "output_type": "stream",
     "text": [
      "Round # 20\n",
      "\n",
      "-------------\n",
      "\n",
      "Proposals by men:\n",
      "\n",
      "\t\t ----> man 1 proposes to woman b \n",
      "\n",
      "Deferred Acceptances by women:\n",
      "\n",
      "\t\t ~~~> Woman b will accept proposal from 1 \n",
      "\n"
     ]
    },
    {
     "data": {
      "text/html": [
       "<p><h3> (Partial) Matching: </h3>\n",
       "<p><table border=\"1px solid black\"><tbody><tr>                           <td bgcolor=\"gray\"> Man </td> <td bgcolor=\"gray\"> Woman </td></tr>\n",
       "\n",
       "<tr><td> 1 </td><td> b</td></tr>\n",
       "\n",
       "<tr><td> 2 </td><td> c</td></tr>\n",
       "\n",
       "<tr><td> 3 </td><td> d</td></tr>\n",
       "\n",
       "<tr><td> 4 </td><td> e</td></tr>\n",
       "\n",
       "<tr><td> 6 </td><td> a</td></tr>\n",
       "\n",
       "</tbody></table>\n",
       "\n",
       "<p><b> Unmatched MEN:</b> \n",
       " <ul>\n",
       "<li>5\n",
       "\n",
       "</ul>\n",
       "<p><b> Unmatched WOMEN:</b>\n",
       "<ul>\n",
       "<li>f\n",
       "\n",
       "</ul>\n"
      ],
      "text/plain": [
       "<IPython.core.display.HTML at 0x10699f0d0>"
      ]
     },
     "metadata": {},
     "output_type": "display_data"
    },
    {
     "name": "stdout",
     "output_type": "stream",
     "text": [
      "Round # 21\n",
      "\n",
      "-------------\n",
      "\n",
      "Proposals by men:\n",
      "\n",
      "\t\t ----> man 5 proposes to woman a \n",
      "\n",
      "Deferred Acceptances by women:\n",
      "\n",
      "\t\t ~~~> Woman a will accept proposal from 6 \n",
      "\n"
     ]
    },
    {
     "data": {
      "text/html": [
       "<p><h3> (Partial) Matching: </h3>\n",
       "<p><table border=\"1px solid black\"><tbody><tr>                           <td bgcolor=\"gray\"> Man </td> <td bgcolor=\"gray\"> Woman </td></tr>\n",
       "\n",
       "<tr><td> 1 </td><td> b</td></tr>\n",
       "\n",
       "<tr><td> 2 </td><td> c</td></tr>\n",
       "\n",
       "<tr><td> 3 </td><td> d</td></tr>\n",
       "\n",
       "<tr><td> 4 </td><td> e</td></tr>\n",
       "\n",
       "<tr><td> 6 </td><td> a</td></tr>\n",
       "\n",
       "</tbody></table>\n",
       "\n",
       "<p><b> Unmatched MEN:</b> \n",
       " <ul>\n",
       "<li>5\n",
       "\n",
       "</ul>\n",
       "<p><b> Unmatched WOMEN:</b>\n",
       "<ul>\n",
       "<li>f\n",
       "\n",
       "</ul>\n"
      ],
      "text/plain": [
       "<IPython.core.display.HTML at 0x10699f0d0>"
      ]
     },
     "metadata": {},
     "output_type": "display_data"
    },
    {
     "name": "stdout",
     "output_type": "stream",
     "text": [
      "Round # 22\n",
      "\n",
      "-------------\n",
      "\n",
      "Proposals by men:\n",
      "\n",
      "\t\t ----> man 5 proposes to woman f \n",
      "\n",
      "Deferred Acceptances by women:\n",
      "\n",
      "\t\t ~~~> Woman f will accept proposal from 5 \n",
      "\n"
     ]
    },
    {
     "data": {
      "text/html": [
       "<p><h3> (Partial) Matching: </h3>\n",
       "<p><table border=\"1px solid black\"><tbody><tr>                           <td bgcolor=\"gray\"> Man </td> <td bgcolor=\"gray\"> Woman </td></tr>\n",
       "\n",
       "<tr><td> 1 </td><td> b</td></tr>\n",
       "\n",
       "<tr><td> 2 </td><td> c</td></tr>\n",
       "\n",
       "<tr><td> 3 </td><td> d</td></tr>\n",
       "\n",
       "<tr><td> 4 </td><td> e</td></tr>\n",
       "\n",
       "<tr><td> 5 </td><td> f</td></tr>\n",
       "\n",
       "<tr><td> 6 </td><td> a</td></tr>\n",
       "\n",
       "</tbody></table>\n"
      ],
      "text/plain": [
       "<IPython.core.display.HTML at 0x10699f0d0>"
      ]
     },
     "metadata": {},
     "output_type": "display_data"
    },
    {
     "name": "stdout",
     "output_type": "stream",
     "text": [
      "Round # 23\n",
      "\n",
      "-------------\n",
      "\n",
      "Proposals by men:\n",
      "\n",
      "\t No proposals! We are done!\n",
      "\n"
     ]
    },
    {
     "data": {
      "text/html": [
       "<p><h3> (Partial) Matching: </h3>\n",
       "<p><table border=\"1px solid black\"><tbody><tr>                           <td bgcolor=\"gray\"> Man </td> <td bgcolor=\"gray\"> Woman </td></tr>\n",
       "\n",
       "<tr><td> 1 </td><td> b</td></tr>\n",
       "\n",
       "<tr><td> 2 </td><td> c</td></tr>\n",
       "\n",
       "<tr><td> 3 </td><td> d</td></tr>\n",
       "\n",
       "<tr><td> 4 </td><td> e</td></tr>\n",
       "\n",
       "<tr><td> 5 </td><td> f</td></tr>\n",
       "\n",
       "<tr><td> 6 </td><td> a</td></tr>\n",
       "\n",
       "</tbody></table>\n"
      ],
      "text/plain": [
       "<IPython.core.display.HTML at 0x10699f0d0>"
      ]
     },
     "metadata": {},
     "output_type": "display_data"
    }
   ],
   "source": [
    "n=6\n",
    "manNames=['1','2','3','4','5','6']\n",
    "womanNames=['a','b','c','d','e','f']\n",
    "manPrefData=[ [ 1, 5,4, 3, 2,6], [2, 1,5,4,3,6], [3,2,1,5,4,6], [4,3,2,1,5,6], [5,4,3,2,1,6], [1,2,3,4,5,6] ]\n",
    "womanPrefData=[ [6,1, 2, 3,4,5], [4, 6,1, 2,3,5], [3,4,6,1,2,5], [2,3,4,6,1,5],[1,2,3,4,6,5],[1,2,3,4,5,6]]\n",
    "\n",
    "\n",
    "# Let us display these here as HTML tables, for your convenience\n",
    "html1=displayTable(manNames,womanNames,manPrefData,'Preference Data For Men')\n",
    "html2=displayTable(womanNames, manNames, womanPrefData,'Preference Data For Women')\n",
    "display(HTML(html1+'&nbsp;&nbsp;'+html2))\n",
    "\n",
    "# Run stable marriage\n",
    "s1=StableMarriageData(manNames,womanNames,manPrefData,womanPrefData)\n",
    "s1.iterateUntilCompletion()"
   ]
  },
  {
   "cell_type": "markdown",
   "metadata": {},
   "source": [
    "Notebook created by Sriram Sankaranarayanan (srirams@colorado.edu)"
   ]
  }
 ],
 "metadata": {
  "kernelspec": {
   "display_name": "Python 3",
   "language": "python",
   "name": "python3"
  },
  "language_info": {
   "codemirror_mode": {
    "name": "ipython",
    "version": 3
   },
   "file_extension": ".py",
   "mimetype": "text/x-python",
   "name": "python",
   "nbconvert_exporter": "python",
   "pygments_lexer": "ipython3",
   "version": "3.6.3"
  }
 },
 "nbformat": 4,
 "nbformat_minor": 1
}
